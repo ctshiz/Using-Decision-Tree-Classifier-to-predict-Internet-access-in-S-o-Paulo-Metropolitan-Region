{
 "cells": [
  {
   "cell_type": "markdown",
   "metadata": {},
   "source": [
    "# ANALYSIS OF INTERNET ACCESS IN SÃO PAULO METROPOLITAN REGION OVER 2015-2020\n",
    "\n",
    "SUMMARY\n",
    "\n",
    "1. [WEBSCRAPING GOVERN WEBSITE WITH SELENIUM](#WEBSCRAPING-GOVERN-WEBSITE-WITH-SELENIUM)\n",
    "2. [EXPLORATORY DATA ANALYSIS](#EXPLORATORY-DATA-ANALYSIS)\n",
    "3. [IMPORT DATA](#IMPORT-DATA)\n",
    "4. [DATAFRAME MANIPULATION](#DATAFRAME-MANIPULATION)\n",
    "5. [DISCRETE VARIABLE ANALYSIS](#DISCRETE-VARIABLE-ANALYSIS)\n",
    "6. [CATEGORICAL VARIABLE ANALYSIS](#CATEGORICAL-VARIABLE-ANALYSIS)\n",
    "7. [HYPOTHESIS TESTING](#HYPOTHESIS-TESTING)\n",
    "8. [HEATMAP](#HEATMAP)\n",
    "9. [DECISION TREE MODELING](#DECISION-TREE-MODELING)\n",
    "10. [OPERATIONAL KEY PERFORMANCE INDEX ANALYSIS](#OPERATIONAL-KEY-PERFORMANCE-INDEX-ANALYSIS)"
   ]
  },
  {
   "cell_type": "markdown",
   "metadata": {},
   "source": [
    "# WEBSCRAPING GOVERN WEBSITE WITH SELENIUM"
   ]
  },
  {
   "cell_type": "code",
   "execution_count": 1,
   "metadata": {},
   "outputs": [],
   "source": [
    "#Import webdriver and keys from selenium\n",
    "from selenium import webdriver\n",
    "from selenium.webdriver.common.keys import Keys"
   ]
  },
  {
   "cell_type": "code",
   "execution_count": 2,
   "metadata": {},
   "outputs": [],
   "source": [
    "#open a new Firefox browser. \n",
    "#don't forget to specify the path of the executable path as below\n",
    "browser = webdriver.Firefox(executable_path=r'C://Webdriver/bin/geckodriver.exe')\n",
    "\n",
    "#load the url homepage and stop the jupyter for 10s in order to complete the loading of the page\n",
    "browser.get('https://dados.gov.br/dataset')\n",
    "import time\n",
    "time.sleep(10)"
   ]
  },
  {
   "cell_type": "code",
   "execution_count": 3,
   "metadata": {},
   "outputs": [],
   "source": [
    "# Find the search box \n",
    "element = browser.find_element_by_xpath(\"//*[@id='dataset-search-form']/div[1]\")\n",
    "element.click()\n",
    "\n",
    "#verify that \"dados\" is the title of the homepage\n",
    "assert 'dados' in browser.title\n",
    "\n",
    "#prepare the search box to find a specific word. \n",
    "elem = browser.find_element_by_name(\"q\")\n",
    "\n",
    "#clear the search box \n",
    "elem.clear()\n",
    "#write the keyword to find and ask the search box to return the elements with the keyword\n",
    "elem.send_keys(\"Multimídia\")\n",
    "elem.send_keys(Keys.RETURN)"
   ]
  },
  {
   "cell_type": "code",
   "execution_count": 4,
   "metadata": {},
   "outputs": [],
   "source": [
    "#select the format of the element of interest. here the element selected is \"Acesso de Comunicacao Multimídia\" in csv format\n",
    "element = browser.find_element_by_xpath(\"//*[@id='content']/div[3]/div/section[1]/div/ul/li[1]/ul/li[1]/a\")\n",
    "element.click()"
   ]
  },
  {
   "cell_type": "code",
   "execution_count": 5,
   "metadata": {},
   "outputs": [],
   "source": [
    "#select explore option\n",
    "element1 = browser.find_element_by_xpath(\"//*[@id='dataset-resources']/ul/li[1]/div\")\n",
    "element1.click()"
   ]
  },
  {
   "cell_type": "code",
   "execution_count": 6,
   "metadata": {},
   "outputs": [],
   "source": [
    "#select \"ir para recursos\" to download the zip file\n",
    "element2 = browser.find_element_by_xpath(\"//*[@id='dataset-resources']/ul/li[1]/div/ul/li[2]/a\")\n",
    "element2.click()"
   ]
  },
  {
   "cell_type": "markdown",
   "metadata": {},
   "source": [
    "# EXPLORATORY DATA ANALYSIS"
   ]
  },
  {
   "cell_type": "code",
   "execution_count": 156,
   "metadata": {},
   "outputs": [],
   "source": [
    "#Import libraries to manipulate the data\n",
    "import pandas as pd\n",
    "import matplotlib.pyplot as plt\n",
    "import numpy as np\n",
    "import seaborn as sns \n",
    "from scipy.stats import ttest_ind\n",
    "import scipy.stats as stats\n",
    "from scipy.stats import f_oneway\n",
    "from sklearn.preprocessing import LabelEncoder"
   ]
  },
  {
   "cell_type": "markdown",
   "metadata": {},
   "source": [
    "# IMPORT DATA\n",
    "\n",
    "Import data from 2015-2020 period"
   ]
  },
  {
   "cell_type": "code",
   "execution_count": 157,
   "metadata": {},
   "outputs": [],
   "source": [
    "acesso_2016 = pd.read_csv(\"Acessos_Banda_Larga_Fixa_2015-2016.csv\", sep = ';', error_bad_lines = False)\n",
    "acesso_2018 = pd.read_csv(\"Acessos_Banda_Larga_Fixa_2017-2018.csv\", sep = ';', error_bad_lines = False)\n",
    "acesso_2020 = pd.read_csv(\"Acessos_Banda_Larga_Fixa_2019-2020.csv\", sep = ';', error_bad_lines = False)\n"
   ]
  },
  {
   "cell_type": "code",
   "execution_count": 4,
   "metadata": {},
   "outputs": [
    {
     "data": {
      "text/plain": [
       "Index(['Ano', 'Mês', 'Grupo Econômico', 'Empresa', 'CNPJ',\n",
       "       'Porte da Prestadora', 'UF', 'Município', 'Código IBGE Município',\n",
       "       'Faixa de Velocidade', 'Tecnologia', 'Meio de Acesso', 'Acessos'],\n",
       "      dtype='object')"
      ]
     },
     "execution_count": 4,
     "metadata": {},
     "output_type": "execute_result"
    }
   ],
   "source": [
    "#inspect all the columns\n",
    "acesso_2020.columns"
   ]
  },
  {
   "cell_type": "code",
   "execution_count": 5,
   "metadata": {},
   "outputs": [
    {
     "data": {
      "text/plain": [
       "array(['Pequeno Porte', 'Grande Porte'], dtype=object)"
      ]
     },
     "execution_count": 5,
     "metadata": {},
     "output_type": "execute_result"
    }
   ],
   "source": [
    "# inspect the size of companies\n",
    "\n",
    "acesso_2020['Porte da Prestadora'].unique()"
   ]
  },
  {
   "cell_type": "code",
   "execution_count": 158,
   "metadata": {},
   "outputs": [],
   "source": [
    "#define a function to drop the samll size companies and all states, except São Paulo state \n",
    "\n",
    "def porte(dataframe, column1, column2):\n",
    "    porte = dataframe.copy()\n",
    "    porte = porte.drop(porte[(porte['Porte da Prestadora'] != column1) | (porte['UF'] != column2)].index)\n",
    "    return porte"
   ]
  },
  {
   "cell_type": "code",
   "execution_count": 159,
   "metadata": {},
   "outputs": [],
   "source": [
    "acesso_2016_sp = porte(acesso_2016, 'Grande Porte', 'SP')\n",
    "acesso_2018_sp = porte(acesso_2018, 'Grande Porte', 'SP')\n",
    "acesso_2020_sp = porte(acesso_2020, 'Grande Porte', 'SP')"
   ]
  },
  {
   "cell_type": "markdown",
   "metadata": {},
   "source": [
    "# DATAFRAME MANIPULATION"
   ]
  },
  {
   "cell_type": "code",
   "execution_count": 160,
   "metadata": {},
   "outputs": [],
   "source": [
    "#Concatenate the three dataframes together\n",
    "\n",
    "acesso = [acesso_2016_sp, acesso_2018_sp, acesso_2020_sp]\n",
    "acesso_sp = pd.concat(acesso)"
   ]
  },
  {
   "cell_type": "code",
   "execution_count": 9,
   "metadata": {},
   "outputs": [
    {
     "data": {
      "text/plain": [
       "Index(['Ano', 'Mês', 'Grupo Econômico', 'Empresa', 'CNPJ',\n",
       "       'Porte da Prestadora', 'UF', 'Município', 'Código IBGE Município',\n",
       "       'Faixa de Velocidade', 'Tecnologia', 'Meio de Acesso', 'Acessos'],\n",
       "      dtype='object')"
      ]
     },
     "execution_count": 9,
     "metadata": {},
     "output_type": "execute_result"
    }
   ],
   "source": [
    "#inspect the columns of the dataframe created\n",
    "\n",
    "acesso_sp.columns"
   ]
  },
  {
   "cell_type": "code",
   "execution_count": 161,
   "metadata": {},
   "outputs": [],
   "source": [
    "#Dropping the unnecessary columns and create a new dataframe\n",
    "\n",
    "drop_acesso = acesso_sp.drop(columns=['Grupo Econômico', 'CNPJ', 'UF', 'Porte da Prestadora', 'Código IBGE Município', 'Meio de Acesso'])"
   ]
  },
  {
   "cell_type": "code",
   "execution_count": 11,
   "metadata": {},
   "outputs": [
    {
     "data": {
      "text/plain": [
       "(672595, 7)"
      ]
     },
     "execution_count": 11,
     "metadata": {},
     "output_type": "execute_result"
    }
   ],
   "source": [
    "#inspect the shape\n",
    "\n",
    "drop_acesso.shape"
   ]
  },
  {
   "cell_type": "code",
   "execution_count": 13,
   "metadata": {},
   "outputs": [
    {
     "name": "stdout",
     "output_type": "stream",
     "text": [
      "Number of duplicate rows:  3096\n"
     ]
    }
   ],
   "source": [
    "# Find the number of rows containing duplicated values\n",
    "\n",
    "duplicate_rows = drop_acesso[drop_acesso.duplicated()]\n",
    "print('Number of duplicate rows: ', len(duplicate_rows))"
   ]
  },
  {
   "cell_type": "code",
   "execution_count": 266,
   "metadata": {},
   "outputs": [],
   "source": [
    "#drop duplicated columns\n",
    "\n",
    "drop_duplit = drop_acesso.drop_duplicates()"
   ]
  },
  {
   "cell_type": "code",
   "execution_count": 267,
   "metadata": {},
   "outputs": [
    {
     "data": {
      "text/html": [
       "<div>\n",
       "<style scoped>\n",
       "    .dataframe tbody tr th:only-of-type {\n",
       "        vertical-align: middle;\n",
       "    }\n",
       "\n",
       "    .dataframe tbody tr th {\n",
       "        vertical-align: top;\n",
       "    }\n",
       "\n",
       "    .dataframe thead th {\n",
       "        text-align: right;\n",
       "    }\n",
       "</style>\n",
       "<table border=\"1\" class=\"dataframe\">\n",
       "  <thead>\n",
       "    <tr style=\"text-align: right;\">\n",
       "      <th></th>\n",
       "      <th>Ano</th>\n",
       "      <th>Mês</th>\n",
       "      <th>Empresa</th>\n",
       "      <th>Município</th>\n",
       "      <th>Faixa de Velocidade</th>\n",
       "      <th>Tecnologia</th>\n",
       "      <th>Acessos</th>\n",
       "    </tr>\n",
       "  </thead>\n",
       "  <tbody>\n",
       "    <tr>\n",
       "      <th>24967</th>\n",
       "      <td>2016</td>\n",
       "      <td>12</td>\n",
       "      <td>VIVO</td>\n",
       "      <td>Santo Anastácio</td>\n",
       "      <td>0Kbps a 512Kbps</td>\n",
       "      <td>ATM</td>\n",
       "      <td>13</td>\n",
       "    </tr>\n",
       "    <tr>\n",
       "      <th>26161</th>\n",
       "      <td>2016</td>\n",
       "      <td>12</td>\n",
       "      <td>VIVO</td>\n",
       "      <td>São Caetano do Sul</td>\n",
       "      <td>512kbps a 2Mbps</td>\n",
       "      <td>Fibra</td>\n",
       "      <td>13</td>\n",
       "    </tr>\n",
       "    <tr>\n",
       "      <th>26162</th>\n",
       "      <td>2016</td>\n",
       "      <td>12</td>\n",
       "      <td>VIVO</td>\n",
       "      <td>Pacaembu</td>\n",
       "      <td>512kbps a 2Mbps</td>\n",
       "      <td>xDSL</td>\n",
       "      <td>617</td>\n",
       "    </tr>\n",
       "    <tr>\n",
       "      <th>26163</th>\n",
       "      <td>2016</td>\n",
       "      <td>12</td>\n",
       "      <td>VIVO</td>\n",
       "      <td>Campinas</td>\n",
       "      <td>12Mbps a 34Mbps</td>\n",
       "      <td>xDSL</td>\n",
       "      <td>19407</td>\n",
       "    </tr>\n",
       "    <tr>\n",
       "      <th>26164</th>\n",
       "      <td>2016</td>\n",
       "      <td>12</td>\n",
       "      <td>VIVO</td>\n",
       "      <td>Estiva Gerbi</td>\n",
       "      <td>512kbps a 2Mbps</td>\n",
       "      <td>ATM</td>\n",
       "      <td>4</td>\n",
       "    </tr>\n",
       "    <tr>\n",
       "      <th>...</th>\n",
       "      <td>...</td>\n",
       "      <td>...</td>\n",
       "      <td>...</td>\n",
       "      <td>...</td>\n",
       "      <td>...</td>\n",
       "      <td>...</td>\n",
       "      <td>...</td>\n",
       "    </tr>\n",
       "    <tr>\n",
       "      <th>3606829</th>\n",
       "      <td>2019</td>\n",
       "      <td>1</td>\n",
       "      <td>OI</td>\n",
       "      <td>Osasco</td>\n",
       "      <td>0Kbps a 512Kbps</td>\n",
       "      <td>FR</td>\n",
       "      <td>4</td>\n",
       "    </tr>\n",
       "    <tr>\n",
       "      <th>3606835</th>\n",
       "      <td>2019</td>\n",
       "      <td>1</td>\n",
       "      <td>OI</td>\n",
       "      <td>Barueri</td>\n",
       "      <td>0Kbps a 512Kbps</td>\n",
       "      <td>FR</td>\n",
       "      <td>6</td>\n",
       "    </tr>\n",
       "    <tr>\n",
       "      <th>3606840</th>\n",
       "      <td>2019</td>\n",
       "      <td>1</td>\n",
       "      <td>OI</td>\n",
       "      <td>Cotia</td>\n",
       "      <td>0Kbps a 512Kbps</td>\n",
       "      <td>FR</td>\n",
       "      <td>1</td>\n",
       "    </tr>\n",
       "    <tr>\n",
       "      <th>3606842</th>\n",
       "      <td>2019</td>\n",
       "      <td>1</td>\n",
       "      <td>OI</td>\n",
       "      <td>Guarulhos</td>\n",
       "      <td>512kbps a 2Mbps</td>\n",
       "      <td>FR</td>\n",
       "      <td>1</td>\n",
       "    </tr>\n",
       "    <tr>\n",
       "      <th>3606849</th>\n",
       "      <td>2019</td>\n",
       "      <td>1</td>\n",
       "      <td>OI</td>\n",
       "      <td>Ourinhos</td>\n",
       "      <td>512kbps a 2Mbps</td>\n",
       "      <td>VSAT</td>\n",
       "      <td>1</td>\n",
       "    </tr>\n",
       "  </tbody>\n",
       "</table>\n",
       "<p>669499 rows × 7 columns</p>\n",
       "</div>"
      ],
      "text/plain": [
       "          Ano  Mês Empresa           Município Faixa de Velocidade Tecnologia  \\\n",
       "24967    2016   12    VIVO     Santo Anastácio     0Kbps a 512Kbps        ATM   \n",
       "26161    2016   12    VIVO  São Caetano do Sul     512kbps a 2Mbps      Fibra   \n",
       "26162    2016   12    VIVO            Pacaembu     512kbps a 2Mbps       xDSL   \n",
       "26163    2016   12    VIVO            Campinas     12Mbps a 34Mbps       xDSL   \n",
       "26164    2016   12    VIVO        Estiva Gerbi     512kbps a 2Mbps        ATM   \n",
       "...       ...  ...     ...                 ...                 ...        ...   \n",
       "3606829  2019    1      OI              Osasco     0Kbps a 512Kbps         FR   \n",
       "3606835  2019    1      OI             Barueri     0Kbps a 512Kbps         FR   \n",
       "3606840  2019    1      OI               Cotia     0Kbps a 512Kbps         FR   \n",
       "3606842  2019    1      OI           Guarulhos     512kbps a 2Mbps         FR   \n",
       "3606849  2019    1      OI            Ourinhos     512kbps a 2Mbps       VSAT   \n",
       "\n",
       "         Acessos  \n",
       "24967         13  \n",
       "26161         13  \n",
       "26162        617  \n",
       "26163      19407  \n",
       "26164          4  \n",
       "...          ...  \n",
       "3606829        4  \n",
       "3606835        6  \n",
       "3606840        1  \n",
       "3606842        1  \n",
       "3606849        1  \n",
       "\n",
       "[669499 rows x 7 columns]"
      ]
     },
     "execution_count": 267,
     "metadata": {},
     "output_type": "execute_result"
    }
   ],
   "source": [
    "drop_duplit"
   ]
  },
  {
   "cell_type": "code",
   "execution_count": 268,
   "metadata": {},
   "outputs": [],
   "source": [
    "#sort by Ano and Mês\n",
    "\n",
    "drop_duplit = drop_duplit.sort_values(by=['Ano', 'Mês'])"
   ]
  },
  {
   "cell_type": "code",
   "execution_count": 269,
   "metadata": {},
   "outputs": [
    {
     "data": {
      "text/html": [
       "<div>\n",
       "<style scoped>\n",
       "    .dataframe tbody tr th:only-of-type {\n",
       "        vertical-align: middle;\n",
       "    }\n",
       "\n",
       "    .dataframe tbody tr th {\n",
       "        vertical-align: top;\n",
       "    }\n",
       "\n",
       "    .dataframe thead th {\n",
       "        text-align: right;\n",
       "    }\n",
       "</style>\n",
       "<table border=\"1\" class=\"dataframe\">\n",
       "  <thead>\n",
       "    <tr style=\"text-align: right;\">\n",
       "      <th></th>\n",
       "      <th>Ano</th>\n",
       "      <th>Mês</th>\n",
       "      <th>Empresa</th>\n",
       "      <th>Município</th>\n",
       "      <th>Faixa de Velocidade</th>\n",
       "      <th>Tecnologia</th>\n",
       "      <th>Acessos</th>\n",
       "    </tr>\n",
       "  </thead>\n",
       "  <tbody>\n",
       "    <tr>\n",
       "      <th>2371895</th>\n",
       "      <td>2015</td>\n",
       "      <td>1</td>\n",
       "      <td>VIVO</td>\n",
       "      <td>São Paulo</td>\n",
       "      <td>2Mbps a 12Mbps</td>\n",
       "      <td>ETHERNET</td>\n",
       "      <td>4</td>\n",
       "    </tr>\n",
       "    <tr>\n",
       "      <th>2371923</th>\n",
       "      <td>2015</td>\n",
       "      <td>1</td>\n",
       "      <td>OI</td>\n",
       "      <td>São João da Boa Vista</td>\n",
       "      <td>512kbps a 2Mbps</td>\n",
       "      <td>xDSL</td>\n",
       "      <td>1</td>\n",
       "    </tr>\n",
       "    <tr>\n",
       "      <th>2372137</th>\n",
       "      <td>2015</td>\n",
       "      <td>1</td>\n",
       "      <td>VIVO</td>\n",
       "      <td>São Paulo</td>\n",
       "      <td>&gt; 34Mbps</td>\n",
       "      <td>Fibra</td>\n",
       "      <td>152</td>\n",
       "    </tr>\n",
       "    <tr>\n",
       "      <th>2372212</th>\n",
       "      <td>2015</td>\n",
       "      <td>1</td>\n",
       "      <td>CLARO</td>\n",
       "      <td>Osasco</td>\n",
       "      <td>0Kbps a 512Kbps</td>\n",
       "      <td>Fibra</td>\n",
       "      <td>1</td>\n",
       "    </tr>\n",
       "    <tr>\n",
       "      <th>2374073</th>\n",
       "      <td>2015</td>\n",
       "      <td>1</td>\n",
       "      <td>CLARO</td>\n",
       "      <td>Cotia</td>\n",
       "      <td>512kbps a 2Mbps</td>\n",
       "      <td>Fibra</td>\n",
       "      <td>1</td>\n",
       "    </tr>\n",
       "    <tr>\n",
       "      <th>...</th>\n",
       "      <td>...</td>\n",
       "      <td>...</td>\n",
       "      <td>...</td>\n",
       "      <td>...</td>\n",
       "      <td>...</td>\n",
       "      <td>...</td>\n",
       "      <td>...</td>\n",
       "    </tr>\n",
       "    <tr>\n",
       "      <th>146587</th>\n",
       "      <td>2020</td>\n",
       "      <td>12</td>\n",
       "      <td>SKY/AT&amp;T</td>\n",
       "      <td>Guarujá</td>\n",
       "      <td>2Mbps a 12Mbps</td>\n",
       "      <td>LTE</td>\n",
       "      <td>362</td>\n",
       "    </tr>\n",
       "    <tr>\n",
       "      <th>146590</th>\n",
       "      <td>2020</td>\n",
       "      <td>12</td>\n",
       "      <td>SKY/AT&amp;T</td>\n",
       "      <td>Ibiúna</td>\n",
       "      <td>12Mbps a 34Mbps</td>\n",
       "      <td>LTE</td>\n",
       "      <td>5</td>\n",
       "    </tr>\n",
       "    <tr>\n",
       "      <th>146608</th>\n",
       "      <td>2020</td>\n",
       "      <td>12</td>\n",
       "      <td>SKY/AT&amp;T</td>\n",
       "      <td>Tietê</td>\n",
       "      <td>2Mbps a 12Mbps</td>\n",
       "      <td>LTE</td>\n",
       "      <td>26</td>\n",
       "    </tr>\n",
       "    <tr>\n",
       "      <th>146610</th>\n",
       "      <td>2020</td>\n",
       "      <td>12</td>\n",
       "      <td>SKY/AT&amp;T</td>\n",
       "      <td>Santos</td>\n",
       "      <td>2Mbps a 12Mbps</td>\n",
       "      <td>LTE</td>\n",
       "      <td>406</td>\n",
       "    </tr>\n",
       "    <tr>\n",
       "      <th>146635</th>\n",
       "      <td>2020</td>\n",
       "      <td>12</td>\n",
       "      <td>SKY/AT&amp;T</td>\n",
       "      <td>Ribeirão Pires</td>\n",
       "      <td>512kbps a 2Mbps</td>\n",
       "      <td>LTE</td>\n",
       "      <td>2</td>\n",
       "    </tr>\n",
       "  </tbody>\n",
       "</table>\n",
       "<p>669499 rows × 7 columns</p>\n",
       "</div>"
      ],
      "text/plain": [
       "          Ano  Mês   Empresa              Município Faixa de Velocidade  \\\n",
       "2371895  2015    1      VIVO              São Paulo      2Mbps a 12Mbps   \n",
       "2371923  2015    1        OI  São João da Boa Vista     512kbps a 2Mbps   \n",
       "2372137  2015    1      VIVO              São Paulo            > 34Mbps   \n",
       "2372212  2015    1     CLARO                 Osasco     0Kbps a 512Kbps   \n",
       "2374073  2015    1     CLARO                  Cotia     512kbps a 2Mbps   \n",
       "...       ...  ...       ...                    ...                 ...   \n",
       "146587   2020   12  SKY/AT&T                Guarujá      2Mbps a 12Mbps   \n",
       "146590   2020   12  SKY/AT&T                 Ibiúna     12Mbps a 34Mbps   \n",
       "146608   2020   12  SKY/AT&T                  Tietê      2Mbps a 12Mbps   \n",
       "146610   2020   12  SKY/AT&T                 Santos      2Mbps a 12Mbps   \n",
       "146635   2020   12  SKY/AT&T         Ribeirão Pires     512kbps a 2Mbps   \n",
       "\n",
       "        Tecnologia  Acessos  \n",
       "2371895   ETHERNET        4  \n",
       "2371923       xDSL        1  \n",
       "2372137      Fibra      152  \n",
       "2372212      Fibra        1  \n",
       "2374073      Fibra        1  \n",
       "...            ...      ...  \n",
       "146587         LTE      362  \n",
       "146590         LTE        5  \n",
       "146608         LTE       26  \n",
       "146610         LTE      406  \n",
       "146635         LTE        2  \n",
       "\n",
       "[669499 rows x 7 columns]"
      ]
     },
     "execution_count": 269,
     "metadata": {},
     "output_type": "execute_result"
    }
   ],
   "source": [
    "drop_duplit"
   ]
  },
  {
   "cell_type": "markdown",
   "metadata": {},
   "source": [
    "Select only the metropolitan regions of SP"
   ]
  },
  {
   "cell_type": "code",
   "execution_count": 271,
   "metadata": {},
   "outputs": [],
   "source": [
    "drop_duplit = drop_duplit.drop(drop_duplit[(drop_duplit['Município'] != 'São Paulo') & (drop_duplit['Município'] != 'Campinas') & (drop_duplit['Município'] != 'São José dos Campos') & (drop_duplit['Município'] != 'Sorocaba') & (drop_duplit['Município'] != 'Santos') & (drop_duplit['Município'] != 'Ribeirão Preto')].index)"
   ]
  },
  {
   "cell_type": "code",
   "execution_count": 272,
   "metadata": {},
   "outputs": [
    {
     "data": {
      "text/plain": [
       "array(['São Paulo', 'Santos', 'Campinas', 'São José dos Campos',\n",
       "       'Ribeirão Preto', 'Sorocaba'], dtype=object)"
      ]
     },
     "execution_count": 272,
     "metadata": {},
     "output_type": "execute_result"
    }
   ],
   "source": [
    "drop_duplit['Município'].unique()"
   ]
  },
  {
   "cell_type": "code",
   "execution_count": 273,
   "metadata": {},
   "outputs": [
    {
     "data": {
      "text/html": [
       "<div>\n",
       "<style scoped>\n",
       "    .dataframe tbody tr th:only-of-type {\n",
       "        vertical-align: middle;\n",
       "    }\n",
       "\n",
       "    .dataframe tbody tr th {\n",
       "        vertical-align: top;\n",
       "    }\n",
       "\n",
       "    .dataframe thead th {\n",
       "        text-align: right;\n",
       "    }\n",
       "</style>\n",
       "<table border=\"1\" class=\"dataframe\">\n",
       "  <thead>\n",
       "    <tr style=\"text-align: right;\">\n",
       "      <th></th>\n",
       "      <th>Ano</th>\n",
       "      <th>Mês</th>\n",
       "      <th>Empresa</th>\n",
       "      <th>Município</th>\n",
       "      <th>Faixa de Velocidade</th>\n",
       "      <th>Tecnologia</th>\n",
       "      <th>Acessos</th>\n",
       "    </tr>\n",
       "  </thead>\n",
       "  <tbody>\n",
       "    <tr>\n",
       "      <th>98485</th>\n",
       "      <td>2020</td>\n",
       "      <td>12</td>\n",
       "      <td>CLARO</td>\n",
       "      <td>São Paulo</td>\n",
       "      <td>&gt; 34Mbps</td>\n",
       "      <td>HFC</td>\n",
       "      <td>1224902</td>\n",
       "    </tr>\n",
       "  </tbody>\n",
       "</table>\n",
       "</div>"
      ],
      "text/plain": [
       "        Ano  Mês Empresa  Município Faixa de Velocidade Tecnologia  Acessos\n",
       "98485  2020   12   CLARO  São Paulo            > 34Mbps        HFC  1224902"
      ]
     },
     "execution_count": 273,
     "metadata": {},
     "output_type": "execute_result"
    }
   ],
   "source": [
    "#Find which company has the most acessos and identify the tecnologia linked\n",
    "drop_duplit[drop_duplit['Acessos'] == drop_duplit['Acessos'].max()]"
   ]
  },
  {
   "cell_type": "code",
   "execution_count": 274,
   "metadata": {},
   "outputs": [
    {
     "data": {
      "text/html": [
       "<div>\n",
       "<style scoped>\n",
       "    .dataframe tbody tr th:only-of-type {\n",
       "        vertical-align: middle;\n",
       "    }\n",
       "\n",
       "    .dataframe tbody tr th {\n",
       "        vertical-align: top;\n",
       "    }\n",
       "\n",
       "    .dataframe thead th {\n",
       "        text-align: right;\n",
       "    }\n",
       "</style>\n",
       "<table border=\"1\" class=\"dataframe\">\n",
       "  <thead>\n",
       "    <tr style=\"text-align: right;\">\n",
       "      <th></th>\n",
       "      <th>Ano</th>\n",
       "      <th>Mês</th>\n",
       "      <th>Empresa</th>\n",
       "      <th>Município</th>\n",
       "      <th>Faixa de Velocidade</th>\n",
       "      <th>Tecnologia</th>\n",
       "      <th>Acessos</th>\n",
       "    </tr>\n",
       "  </thead>\n",
       "  <tbody>\n",
       "    <tr>\n",
       "      <th>2374075</th>\n",
       "      <td>2015</td>\n",
       "      <td>1</td>\n",
       "      <td>CLARO</td>\n",
       "      <td>Santos</td>\n",
       "      <td>512kbps a 2Mbps</td>\n",
       "      <td>xDSL</td>\n",
       "      <td>1</td>\n",
       "    </tr>\n",
       "    <tr>\n",
       "      <th>2374080</th>\n",
       "      <td>2015</td>\n",
       "      <td>1</td>\n",
       "      <td>CLARO</td>\n",
       "      <td>Campinas</td>\n",
       "      <td>0Kbps a 512Kbps</td>\n",
       "      <td>xDSL</td>\n",
       "      <td>1</td>\n",
       "    </tr>\n",
       "    <tr>\n",
       "      <th>2374084</th>\n",
       "      <td>2015</td>\n",
       "      <td>1</td>\n",
       "      <td>CLARO</td>\n",
       "      <td>Santos</td>\n",
       "      <td>0Kbps a 512Kbps</td>\n",
       "      <td>Fibra</td>\n",
       "      <td>1</td>\n",
       "    </tr>\n",
       "    <tr>\n",
       "      <th>2374160</th>\n",
       "      <td>2015</td>\n",
       "      <td>1</td>\n",
       "      <td>CLARO</td>\n",
       "      <td>São José dos Campos</td>\n",
       "      <td>0Kbps a 512Kbps</td>\n",
       "      <td>xDSL</td>\n",
       "      <td>1</td>\n",
       "    </tr>\n",
       "    <tr>\n",
       "      <th>2374170</th>\n",
       "      <td>2015</td>\n",
       "      <td>1</td>\n",
       "      <td>CLARO</td>\n",
       "      <td>São José dos Campos</td>\n",
       "      <td>512kbps a 2Mbps</td>\n",
       "      <td>Fibra</td>\n",
       "      <td>1</td>\n",
       "    </tr>\n",
       "    <tr>\n",
       "      <th>...</th>\n",
       "      <td>...</td>\n",
       "      <td>...</td>\n",
       "      <td>...</td>\n",
       "      <td>...</td>\n",
       "      <td>...</td>\n",
       "      <td>...</td>\n",
       "      <td>...</td>\n",
       "    </tr>\n",
       "    <tr>\n",
       "      <th>94076</th>\n",
       "      <td>2020</td>\n",
       "      <td>12</td>\n",
       "      <td>CLARO</td>\n",
       "      <td>Santos</td>\n",
       "      <td>&gt; 34Mbps</td>\n",
       "      <td>Wi-Fi</td>\n",
       "      <td>1</td>\n",
       "    </tr>\n",
       "    <tr>\n",
       "      <th>94500</th>\n",
       "      <td>2020</td>\n",
       "      <td>12</td>\n",
       "      <td>CLARO</td>\n",
       "      <td>Sorocaba</td>\n",
       "      <td>0Kbps a 512Kbps</td>\n",
       "      <td>Wi-Fi</td>\n",
       "      <td>1</td>\n",
       "    </tr>\n",
       "    <tr>\n",
       "      <th>97817</th>\n",
       "      <td>2020</td>\n",
       "      <td>12</td>\n",
       "      <td>CLARO</td>\n",
       "      <td>Campinas</td>\n",
       "      <td>2Mbps a 12Mbps</td>\n",
       "      <td>Wi-Fi</td>\n",
       "      <td>1</td>\n",
       "    </tr>\n",
       "    <tr>\n",
       "      <th>99830</th>\n",
       "      <td>2020</td>\n",
       "      <td>12</td>\n",
       "      <td>CLARO</td>\n",
       "      <td>São José dos Campos</td>\n",
       "      <td>2Mbps a 12Mbps</td>\n",
       "      <td>xDSL</td>\n",
       "      <td>1</td>\n",
       "    </tr>\n",
       "    <tr>\n",
       "      <th>146323</th>\n",
       "      <td>2020</td>\n",
       "      <td>12</td>\n",
       "      <td>SKY/AT&amp;T</td>\n",
       "      <td>São Paulo</td>\n",
       "      <td>512kbps a 2Mbps</td>\n",
       "      <td>LTE</td>\n",
       "      <td>1</td>\n",
       "    </tr>\n",
       "  </tbody>\n",
       "</table>\n",
       "<p>3415 rows × 7 columns</p>\n",
       "</div>"
      ],
      "text/plain": [
       "          Ano  Mês   Empresa            Município Faixa de Velocidade  \\\n",
       "2374075  2015    1     CLARO               Santos     512kbps a 2Mbps   \n",
       "2374080  2015    1     CLARO             Campinas     0Kbps a 512Kbps   \n",
       "2374084  2015    1     CLARO               Santos     0Kbps a 512Kbps   \n",
       "2374160  2015    1     CLARO  São José dos Campos     0Kbps a 512Kbps   \n",
       "2374170  2015    1     CLARO  São José dos Campos     512kbps a 2Mbps   \n",
       "...       ...  ...       ...                  ...                 ...   \n",
       "94076    2020   12     CLARO               Santos            > 34Mbps   \n",
       "94500    2020   12     CLARO             Sorocaba     0Kbps a 512Kbps   \n",
       "97817    2020   12     CLARO             Campinas      2Mbps a 12Mbps   \n",
       "99830    2020   12     CLARO  São José dos Campos      2Mbps a 12Mbps   \n",
       "146323   2020   12  SKY/AT&T            São Paulo     512kbps a 2Mbps   \n",
       "\n",
       "        Tecnologia  Acessos  \n",
       "2374075       xDSL        1  \n",
       "2374080       xDSL        1  \n",
       "2374084      Fibra        1  \n",
       "2374160       xDSL        1  \n",
       "2374170      Fibra        1  \n",
       "...            ...      ...  \n",
       "94076        Wi-Fi        1  \n",
       "94500        Wi-Fi        1  \n",
       "97817        Wi-Fi        1  \n",
       "99830         xDSL        1  \n",
       "146323         LTE        1  \n",
       "\n",
       "[3415 rows x 7 columns]"
      ]
     },
     "execution_count": 274,
     "metadata": {},
     "output_type": "execute_result"
    }
   ],
   "source": [
    "#Find which company has the least acessos and identify the tecnologia linked\n",
    "drop_duplit[drop_duplit['Acessos'] == drop_duplit['Acessos'].min()]"
   ]
  },
  {
   "cell_type": "code",
   "execution_count": 275,
   "metadata": {},
   "outputs": [
    {
     "data": {
      "text/plain": [
       "array(['2Mbps a 12Mbps', '> 34Mbps', '512kbps a 2Mbps', '0Kbps a 512Kbps',\n",
       "       '12Mbps a 34Mbps'], dtype=object)"
      ]
     },
     "execution_count": 275,
     "metadata": {},
     "output_type": "execute_result"
    }
   ],
   "source": [
    "drop_duplit['Faixa de Velocidade'].unique()"
   ]
  },
  {
   "cell_type": "code",
   "execution_count": 276,
   "metadata": {},
   "outputs": [
    {
     "data": {
      "text/html": [
       "<div>\n",
       "<style scoped>\n",
       "    .dataframe tbody tr th:only-of-type {\n",
       "        vertical-align: middle;\n",
       "    }\n",
       "\n",
       "    .dataframe tbody tr th {\n",
       "        vertical-align: top;\n",
       "    }\n",
       "\n",
       "    .dataframe thead th {\n",
       "        text-align: right;\n",
       "    }\n",
       "</style>\n",
       "<table border=\"1\" class=\"dataframe\">\n",
       "  <thead>\n",
       "    <tr style=\"text-align: right;\">\n",
       "      <th></th>\n",
       "      <th>Ano</th>\n",
       "      <th>Mês</th>\n",
       "      <th>Empresa</th>\n",
       "      <th>Município</th>\n",
       "      <th>Faixa de Velocidade</th>\n",
       "      <th>Tecnologia</th>\n",
       "      <th>Acessos</th>\n",
       "    </tr>\n",
       "  </thead>\n",
       "  <tbody>\n",
       "    <tr>\n",
       "      <th>2371895</th>\n",
       "      <td>2015</td>\n",
       "      <td>1</td>\n",
       "      <td>VIVO</td>\n",
       "      <td>São Paulo</td>\n",
       "      <td>2Mbps a 12Mbps</td>\n",
       "      <td>ETHERNET</td>\n",
       "      <td>4</td>\n",
       "    </tr>\n",
       "    <tr>\n",
       "      <th>2372137</th>\n",
       "      <td>2015</td>\n",
       "      <td>1</td>\n",
       "      <td>VIVO</td>\n",
       "      <td>São Paulo</td>\n",
       "      <td>&gt; 34Mbps</td>\n",
       "      <td>Fibra</td>\n",
       "      <td>152</td>\n",
       "    </tr>\n",
       "    <tr>\n",
       "      <th>2374075</th>\n",
       "      <td>2015</td>\n",
       "      <td>1</td>\n",
       "      <td>CLARO</td>\n",
       "      <td>Santos</td>\n",
       "      <td>512kbps a 2Mbps</td>\n",
       "      <td>xDSL</td>\n",
       "      <td>1</td>\n",
       "    </tr>\n",
       "    <tr>\n",
       "      <th>2374080</th>\n",
       "      <td>2015</td>\n",
       "      <td>1</td>\n",
       "      <td>CLARO</td>\n",
       "      <td>Campinas</td>\n",
       "      <td>0Kbps a 512Kbps</td>\n",
       "      <td>xDSL</td>\n",
       "      <td>1</td>\n",
       "    </tr>\n",
       "    <tr>\n",
       "      <th>2374082</th>\n",
       "      <td>2015</td>\n",
       "      <td>1</td>\n",
       "      <td>CLARO</td>\n",
       "      <td>São Paulo</td>\n",
       "      <td>2Mbps a 12Mbps</td>\n",
       "      <td>Fibra</td>\n",
       "      <td>7</td>\n",
       "    </tr>\n",
       "    <tr>\n",
       "      <th>...</th>\n",
       "      <td>...</td>\n",
       "      <td>...</td>\n",
       "      <td>...</td>\n",
       "      <td>...</td>\n",
       "      <td>...</td>\n",
       "      <td>...</td>\n",
       "      <td>...</td>\n",
       "    </tr>\n",
       "    <tr>\n",
       "      <th>146036</th>\n",
       "      <td>2020</td>\n",
       "      <td>12</td>\n",
       "      <td>SKY/AT&amp;T</td>\n",
       "      <td>Sorocaba</td>\n",
       "      <td>12Mbps a 34Mbps</td>\n",
       "      <td>LTE</td>\n",
       "      <td>31</td>\n",
       "    </tr>\n",
       "    <tr>\n",
       "      <th>146215</th>\n",
       "      <td>2020</td>\n",
       "      <td>12</td>\n",
       "      <td>SKY/AT&amp;T</td>\n",
       "      <td>Santos</td>\n",
       "      <td>512kbps a 2Mbps</td>\n",
       "      <td>LTE</td>\n",
       "      <td>154</td>\n",
       "    </tr>\n",
       "    <tr>\n",
       "      <th>146323</th>\n",
       "      <td>2020</td>\n",
       "      <td>12</td>\n",
       "      <td>SKY/AT&amp;T</td>\n",
       "      <td>São Paulo</td>\n",
       "      <td>512kbps a 2Mbps</td>\n",
       "      <td>LTE</td>\n",
       "      <td>1</td>\n",
       "    </tr>\n",
       "    <tr>\n",
       "      <th>146501</th>\n",
       "      <td>2020</td>\n",
       "      <td>12</td>\n",
       "      <td>SKY/AT&amp;T</td>\n",
       "      <td>Sorocaba</td>\n",
       "      <td>512kbps a 2Mbps</td>\n",
       "      <td>LTE</td>\n",
       "      <td>145</td>\n",
       "    </tr>\n",
       "    <tr>\n",
       "      <th>146578</th>\n",
       "      <td>2020</td>\n",
       "      <td>12</td>\n",
       "      <td>SKY/AT&amp;T</td>\n",
       "      <td>Sorocaba</td>\n",
       "      <td>2Mbps a 12Mbps</td>\n",
       "      <td>LTE</td>\n",
       "      <td>373</td>\n",
       "    </tr>\n",
       "  </tbody>\n",
       "</table>\n",
       "<p>27221 rows × 7 columns</p>\n",
       "</div>"
      ],
      "text/plain": [
       "          Ano  Mês   Empresa  Município Faixa de Velocidade Tecnologia  \\\n",
       "2371895  2015    1      VIVO  São Paulo      2Mbps a 12Mbps   ETHERNET   \n",
       "2372137  2015    1      VIVO  São Paulo            > 34Mbps      Fibra   \n",
       "2374075  2015    1     CLARO     Santos     512kbps a 2Mbps       xDSL   \n",
       "2374080  2015    1     CLARO   Campinas     0Kbps a 512Kbps       xDSL   \n",
       "2374082  2015    1     CLARO  São Paulo      2Mbps a 12Mbps      Fibra   \n",
       "...       ...  ...       ...        ...                 ...        ...   \n",
       "146036   2020   12  SKY/AT&T   Sorocaba     12Mbps a 34Mbps        LTE   \n",
       "146215   2020   12  SKY/AT&T     Santos     512kbps a 2Mbps        LTE   \n",
       "146323   2020   12  SKY/AT&T  São Paulo     512kbps a 2Mbps        LTE   \n",
       "146501   2020   12  SKY/AT&T   Sorocaba     512kbps a 2Mbps        LTE   \n",
       "146578   2020   12  SKY/AT&T   Sorocaba      2Mbps a 12Mbps        LTE   \n",
       "\n",
       "         Acessos  \n",
       "2371895        4  \n",
       "2372137      152  \n",
       "2374075        1  \n",
       "2374080        1  \n",
       "2374082        7  \n",
       "...          ...  \n",
       "146036        31  \n",
       "146215       154  \n",
       "146323         1  \n",
       "146501       145  \n",
       "146578       373  \n",
       "\n",
       "[27221 rows x 7 columns]"
      ]
     },
     "execution_count": 276,
     "metadata": {},
     "output_type": "execute_result"
    }
   ],
   "source": [
    "drop_duplit"
   ]
  },
  {
   "cell_type": "markdown",
   "metadata": {},
   "source": [
    "# DISCRETE VARIABLE ANALYSIS\n",
    "\n",
    "Let's start first the discrete column \"Acessos\". The columns \"Ano\" and \"Month\" will not be investigated."
   ]
  },
  {
   "cell_type": "code",
   "execution_count": 22,
   "metadata": {},
   "outputs": [],
   "source": [
    "#define a function that will find outliers for any integer column and return a array.\n",
    "\n",
    "def findoutliers(column):\n",
    "    outliers = []\n",
    "    Q1 = column.quantile(.25)\n",
    "    Q3 = column.quantile(.75)\n",
    "    IQR = Q3 - Q1\n",
    "    lower_limit = Q1 - (1.5 * IQR)\n",
    "    upper_limit = Q3 + (1.5 * IQR)\n",
    "    for out1 in column:\n",
    "        if out1 > upper_limit or out1 < lower_limit:\n",
    "            outliers.append(out1)\n",
    "    return np.array(outliers)\n"
   ]
  },
  {
   "cell_type": "code",
   "execution_count": 23,
   "metadata": {},
   "outputs": [],
   "source": [
    "#Data visualization\n",
    "#define a function to display the distribution of the data and quantitative parameters (mean, count of outliers, Missing values, etc.)\n",
    "\n",
    "\n",
    "def plotchart(column):\n",
    "    fig, ax1 = plt.subplots(1,1,figsize=(12,8))\n",
    "    ax1 = sns.boxplot(x = column)\n",
    "    plt.title('Distribution of internet access over 2015-2020')\n",
    "    print('Count of outliers ', len(findoutliers(column)))\n",
    "    print('Quantitative data ', format(column.describe()))\n",
    "    print('Missing values ', format(column.isnull().sum()))\n",
    "    print('% of Missing values ', format(round(100*(column.isnull().sum()/len(column)),2)))\n"
   ]
  },
  {
   "cell_type": "code",
   "execution_count": 277,
   "metadata": {},
   "outputs": [
    {
     "name": "stdout",
     "output_type": "stream",
     "text": [
      "Count of outliers  5013\n",
      "Quantitative data  count    2.722100e+04\n",
      "mean     1.009728e+04\n",
      "std      6.149135e+04\n",
      "min      1.000000e+00\n",
      "25%      5.000000e+00\n",
      "50%      4.600000e+01\n",
      "75%      4.680000e+02\n",
      "max      1.224902e+06\n",
      "Name: Acessos, dtype: float64\n",
      "Missing values  0\n",
      "% of Missing values  0.0\n"
     ]
    },
    {
     "data": {
      "image/png": "[encoded data removed]",
      "text/plain": [
       "<Figure size 864x576 with 1 Axes>"
      ]
     },
     "metadata": {
      "needs_background": "light"
     },
     "output_type": "display_data"
    }
   ],
   "source": [
    "boxplot_Acessos = plotchart(drop_duplit['Acessos'])\n",
    "boxplot_Acessos"
   ]
  },
  {
   "cell_type": "markdown",
   "metadata": {},
   "source": [
    "In term of rentability, the more Internet access the better. I will drop the rows with fewer than 100,000 internet accesses. "
   ]
  },
  {
   "cell_type": "code",
   "execution_count": 278,
   "metadata": {},
   "outputs": [],
   "source": [
    "drop_duplit = drop_duplit.drop(drop_duplit[(drop_duplit['Acessos'] < 100000)].index)"
   ]
  },
  {
   "cell_type": "code",
   "execution_count": 279,
   "metadata": {},
   "outputs": [
    {
     "data": {
      "text/html": [
       "<div>\n",
       "<style scoped>\n",
       "    .dataframe tbody tr th:only-of-type {\n",
       "        vertical-align: middle;\n",
       "    }\n",
       "\n",
       "    .dataframe tbody tr th {\n",
       "        vertical-align: top;\n",
       "    }\n",
       "\n",
       "    .dataframe thead th {\n",
       "        text-align: right;\n",
       "    }\n",
       "</style>\n",
       "<table border=\"1\" class=\"dataframe\">\n",
       "  <thead>\n",
       "    <tr style=\"text-align: right;\">\n",
       "      <th></th>\n",
       "      <th>Ano</th>\n",
       "      <th>Mês</th>\n",
       "      <th>Empresa</th>\n",
       "      <th>Município</th>\n",
       "      <th>Faixa de Velocidade</th>\n",
       "      <th>Tecnologia</th>\n",
       "      <th>Acessos</th>\n",
       "    </tr>\n",
       "  </thead>\n",
       "  <tbody>\n",
       "    <tr>\n",
       "      <th>2382887</th>\n",
       "      <td>2015</td>\n",
       "      <td>1</td>\n",
       "      <td>VIVO</td>\n",
       "      <td>São Paulo</td>\n",
       "      <td>512kbps a 2Mbps</td>\n",
       "      <td>xDSL</td>\n",
       "      <td>684175</td>\n",
       "    </tr>\n",
       "    <tr>\n",
       "      <th>2410398</th>\n",
       "      <td>2015</td>\n",
       "      <td>1</td>\n",
       "      <td>CLARO</td>\n",
       "      <td>São Paulo</td>\n",
       "      <td>512kbps a 2Mbps</td>\n",
       "      <td>Cable Modem</td>\n",
       "      <td>268494</td>\n",
       "    </tr>\n",
       "    <tr>\n",
       "      <th>2412232</th>\n",
       "      <td>2015</td>\n",
       "      <td>1</td>\n",
       "      <td>CLARO</td>\n",
       "      <td>São Paulo</td>\n",
       "      <td>12Mbps a 34Mbps</td>\n",
       "      <td>Cable Modem</td>\n",
       "      <td>161410</td>\n",
       "    </tr>\n",
       "    <tr>\n",
       "      <th>2413582</th>\n",
       "      <td>2015</td>\n",
       "      <td>1</td>\n",
       "      <td>CLARO</td>\n",
       "      <td>Campinas</td>\n",
       "      <td>2Mbps a 12Mbps</td>\n",
       "      <td>Cable Modem</td>\n",
       "      <td>121274</td>\n",
       "    </tr>\n",
       "    <tr>\n",
       "      <th>2417466</th>\n",
       "      <td>2015</td>\n",
       "      <td>1</td>\n",
       "      <td>CLARO</td>\n",
       "      <td>São Paulo</td>\n",
       "      <td>2Mbps a 12Mbps</td>\n",
       "      <td>Cable Modem</td>\n",
       "      <td>1004614</td>\n",
       "    </tr>\n",
       "    <tr>\n",
       "      <th>...</th>\n",
       "      <td>...</td>\n",
       "      <td>...</td>\n",
       "      <td>...</td>\n",
       "      <td>...</td>\n",
       "      <td>...</td>\n",
       "      <td>...</td>\n",
       "      <td>...</td>\n",
       "    </tr>\n",
       "    <tr>\n",
       "      <th>87652</th>\n",
       "      <td>2020</td>\n",
       "      <td>12</td>\n",
       "      <td>CLARO</td>\n",
       "      <td>Campinas</td>\n",
       "      <td>&gt; 34Mbps</td>\n",
       "      <td>HFC</td>\n",
       "      <td>145494</td>\n",
       "    </tr>\n",
       "    <tr>\n",
       "      <th>98061</th>\n",
       "      <td>2020</td>\n",
       "      <td>12</td>\n",
       "      <td>CLARO</td>\n",
       "      <td>São Paulo</td>\n",
       "      <td>2Mbps a 12Mbps</td>\n",
       "      <td>HFC</td>\n",
       "      <td>123499</td>\n",
       "    </tr>\n",
       "    <tr>\n",
       "      <th>98341</th>\n",
       "      <td>2020</td>\n",
       "      <td>12</td>\n",
       "      <td>CLARO</td>\n",
       "      <td>Sorocaba</td>\n",
       "      <td>&gt; 34Mbps</td>\n",
       "      <td>HFC</td>\n",
       "      <td>103783</td>\n",
       "    </tr>\n",
       "    <tr>\n",
       "      <th>98485</th>\n",
       "      <td>2020</td>\n",
       "      <td>12</td>\n",
       "      <td>CLARO</td>\n",
       "      <td>São Paulo</td>\n",
       "      <td>&gt; 34Mbps</td>\n",
       "      <td>HFC</td>\n",
       "      <td>1224902</td>\n",
       "    </tr>\n",
       "    <tr>\n",
       "      <th>98634</th>\n",
       "      <td>2020</td>\n",
       "      <td>12</td>\n",
       "      <td>CLARO</td>\n",
       "      <td>São Paulo</td>\n",
       "      <td>12Mbps a 34Mbps</td>\n",
       "      <td>HFC</td>\n",
       "      <td>146730</td>\n",
       "    </tr>\n",
       "  </tbody>\n",
       "</table>\n",
       "<p>517 rows × 7 columns</p>\n",
       "</div>"
      ],
      "text/plain": [
       "          Ano  Mês Empresa  Município Faixa de Velocidade   Tecnologia  \\\n",
       "2382887  2015    1    VIVO  São Paulo     512kbps a 2Mbps         xDSL   \n",
       "2410398  2015    1   CLARO  São Paulo     512kbps a 2Mbps  Cable Modem   \n",
       "2412232  2015    1   CLARO  São Paulo     12Mbps a 34Mbps  Cable Modem   \n",
       "2413582  2015    1   CLARO   Campinas      2Mbps a 12Mbps  Cable Modem   \n",
       "2417466  2015    1   CLARO  São Paulo      2Mbps a 12Mbps  Cable Modem   \n",
       "...       ...  ...     ...        ...                 ...          ...   \n",
       "87652    2020   12   CLARO   Campinas            > 34Mbps          HFC   \n",
       "98061    2020   12   CLARO  São Paulo      2Mbps a 12Mbps          HFC   \n",
       "98341    2020   12   CLARO   Sorocaba            > 34Mbps          HFC   \n",
       "98485    2020   12   CLARO  São Paulo            > 34Mbps          HFC   \n",
       "98634    2020   12   CLARO  São Paulo     12Mbps a 34Mbps          HFC   \n",
       "\n",
       "         Acessos  \n",
       "2382887   684175  \n",
       "2410398   268494  \n",
       "2412232   161410  \n",
       "2413582   121274  \n",
       "2417466  1004614  \n",
       "...          ...  \n",
       "87652     145494  \n",
       "98061     123499  \n",
       "98341     103783  \n",
       "98485    1224902  \n",
       "98634     146730  \n",
       "\n",
       "[517 rows x 7 columns]"
      ]
     },
     "execution_count": 279,
     "metadata": {},
     "output_type": "execute_result"
    }
   ],
   "source": [
    "drop_duplit"
   ]
  },
  {
   "cell_type": "code",
   "execution_count": 287,
   "metadata": {},
   "outputs": [
    {
     "name": "stdout",
     "output_type": "stream",
     "text": [
      "[2015 2016 2017 2018 2019 2020]\n",
      "[ 1  2  3  4  5  6  7  8  9 10 11 12]\n",
      "['VIVO' 'CLARO' 'TIM']\n",
      "['xDSL' 'Cable Modem' 'Fibra' 'HFC']\n"
     ]
    }
   ],
   "source": [
    "#Inspect the columns\n",
    "\n",
    "print(drop_duplit['Ano'].unique())\n",
    "print(drop_duplit['Mês'].unique())\n",
    "print(drop_duplit['Empresa'].unique())\n",
    "print(drop_duplit['Tecnologia'].unique())"
   ]
  },
  {
   "cell_type": "code",
   "execution_count": 288,
   "metadata": {},
   "outputs": [
    {
     "name": "stdout",
     "output_type": "stream",
     "text": [
      "Count of outliers  14\n",
      "Quantitative data  count    5.170000e+02\n",
      "mean     3.769935e+05\n",
      "std      2.352242e+05\n",
      "min      1.000520e+05\n",
      "25%      2.141410e+05\n",
      "50%      2.814670e+05\n",
      "75%      5.229960e+05\n",
      "max      1.224902e+06\n",
      "Name: Acessos, dtype: float64\n",
      "Missing values  0\n",
      "% of Missing values  0.0\n"
     ]
    },
    {
     "data": {
      "image/png": "[encoded data removed]",
      "text/plain": [
       "<Figure size 864x576 with 1 Axes>"
      ]
     },
     "metadata": {
      "needs_background": "light"
     },
     "output_type": "display_data"
    }
   ],
   "source": [
    "#Find the number of outliers and plot a boxplot\n",
    "\n",
    "boxplot_Acessos = plotchart(drop_duplit['Acessos'])\n",
    "boxplot_Acessos"
   ]
  },
  {
   "cell_type": "markdown",
   "metadata": {},
   "source": [
    "# CATEGORICAL VARIABLE ANALYSIS"
   ]
  },
  {
   "cell_type": "markdown",
   "metadata": {},
   "source": [
    "# Univariate analysis\n",
    "\n",
    "First let's start with an univariate analysis of each categorical analysis\n",
    "\n",
    "Below I define the following function:\n",
    "\n",
    "1. catvarial - prints the frequency of the categorical column and the histogram of the categorial column"
   ]
  },
  {
   "cell_type": "code",
   "execution_count": 25,
   "metadata": {},
   "outputs": [],
   "source": [
    "#define a function to analyze the categorical column\n",
    "\n",
    "#catvarial function prints the frequency of the categorical column\n",
    "def catvarial(column):\n",
    "    print('Quantitative data ')\n",
    "    print(format(column.value_counts()))\n",
    "    fig, ax = plt.subplots(1,1,figsize=(12,8))\n",
    "    ax = sns.histplot(x = column)\n",
    "    \n",
    "    "
   ]
  },
  {
   "cell_type": "code",
   "execution_count": 291,
   "metadata": {},
   "outputs": [
    {
     "name": "stdout",
     "output_type": "stream",
     "text": [
      "Quantitative data \n",
      "CLARO    261\n",
      "VIVO     195\n",
      "TIM       61\n",
      "Name: Empresa, dtype: int64\n"
     ]
    },
    {
     "data": {
      "image/png": "[encoded data removed]",
      "text/plain": [
       "<Figure size 864x576 with 1 Axes>"
      ]
     },
     "metadata": {
      "needs_background": "light"
     },
     "output_type": "display_data"
    }
   ],
   "source": [
    "cat_empr = catvarial(drop_duplit['Empresa'])"
   ]
  },
  {
   "cell_type": "code",
   "execution_count": 292,
   "metadata": {},
   "outputs": [
    {
     "name": "stdout",
     "output_type": "stream",
     "text": [
      "Quantitative data \n",
      "São Paulo    487\n",
      "Campinas      27\n",
      "Sorocaba       3\n",
      "Name: Município, dtype: int64\n"
     ]
    },
    {
     "data": {
      "image/png": "[encoded data removed]",
      "text/plain": [
       "<Figure size 864x576 with 1 Axes>"
      ]
     },
     "metadata": {
      "needs_background": "light"
     },
     "output_type": "display_data"
    }
   ],
   "source": [
    "cat_muni = catvarial(drop_duplit['Município'])"
   ]
  },
  {
   "cell_type": "code",
   "execution_count": 293,
   "metadata": {},
   "outputs": [
    {
     "name": "stdout",
     "output_type": "stream",
     "text": [
      "Quantitative data \n",
      "> 34Mbps           212\n",
      "2Mbps a 12Mbps     127\n",
      "512kbps a 2Mbps    115\n",
      "12Mbps a 34Mbps     63\n",
      "Name: Faixa de Velocidade, dtype: int64\n"
     ]
    },
    {
     "data": {
      "image/png": "[encoded data removed]",
      "text/plain": [
       "<Figure size 864x576 with 1 Axes>"
      ]
     },
     "metadata": {
      "needs_background": "light"
     },
     "output_type": "display_data"
    }
   ],
   "source": [
    "#call catvarial on Internet speed\n",
    "cat_faixa_velocidade = catvarial(drop_duplit['Faixa de Velocidade'])"
   ]
  },
  {
   "cell_type": "code",
   "execution_count": 294,
   "metadata": {},
   "outputs": [
    {
     "name": "stdout",
     "output_type": "stream",
     "text": [
      "Quantitative data \n",
      "xDSL           188\n",
      "Cable Modem    167\n",
      "HFC             94\n",
      "Fibra           68\n",
      "Name: Tecnologia, dtype: int64\n"
     ]
    },
    {
     "data": {
      "image/png": "[encoded data removed]",
      "text/plain": [
       "<Figure size 864x576 with 1 Axes>"
      ]
     },
     "metadata": {
      "needs_background": "light"
     },
     "output_type": "display_data"
    }
   ],
   "source": [
    "#call catvarial on internet technology\n",
    "cat_tech = catvarial(drop_duplit['Tecnologia'])"
   ]
  },
  {
   "cell_type": "markdown",
   "metadata": {},
   "source": [
    "# Multivariate analysis\n",
    "\n",
    "Let's establish the following relationship among all variables"
   ]
  },
  {
   "cell_type": "code",
   "execution_count": 295,
   "metadata": {},
   "outputs": [],
   "source": [
    "#define a function to display internet acess against other parameters\n",
    "def multivarial(column):\n",
    "    Access_multi = drop_duplit['Acessos'].groupby(column).sum().sort_values(ascending = True)\n",
    "    f, ax = plt.subplots(1, 1, figsize=(15, 8))\n",
    "    ax = sns.barplot(x = Access_multi.index, y = Access_multi)\n",
    "    plt.title('Distribution of internet access over 2015-2020')"
   ]
  },
  {
   "cell_type": "code",
   "execution_count": 296,
   "metadata": {},
   "outputs": [
    {
     "data": {
      "image/png": "[encoded data removed]",
      "text/plain": [
       "<Figure size 1080x576 with 1 Axes>"
      ]
     },
     "metadata": {
      "needs_background": "light"
     },
     "output_type": "display_data"
    }
   ],
   "source": [
    "Access_per_empresa = multivarial(drop_duplit['Empresa'])"
   ]
  },
  {
   "cell_type": "code",
   "execution_count": 297,
   "metadata": {},
   "outputs": [
    {
     "data": {
      "image/png": "[encoded data removed]",
      "text/plain": [
       "<Figure size 1080x576 with 1 Axes>"
      ]
     },
     "metadata": {
      "needs_background": "light"
     },
     "output_type": "display_data"
    }
   ],
   "source": [
    "Access_per_municipio = multivarial(drop_duplit['Município'])"
   ]
  },
  {
   "cell_type": "code",
   "execution_count": 298,
   "metadata": {},
   "outputs": [
    {
     "data": {
      "image/png": "[encoded data removed]",
      "text/plain": [
       "<Figure size 1080x576 with 1 Axes>"
      ]
     },
     "metadata": {
      "needs_background": "light"
     },
     "output_type": "display_data"
    }
   ],
   "source": [
    "Access_per_faixa = multivarial(drop_duplit['Faixa de Velocidade'])"
   ]
  },
  {
   "cell_type": "code",
   "execution_count": 299,
   "metadata": {},
   "outputs": [
    {
     "data": {
      "image/png": "[encoded data removed]",
      "text/plain": [
       "<Figure size 1080x576 with 1 Axes>"
      ]
     },
     "metadata": {
      "needs_background": "light"
     },
     "output_type": "display_data"
    }
   ],
   "source": [
    "Access_per_tech = multivarial(drop_duplit['Tecnologia'])"
   ]
  },
  {
   "cell_type": "markdown",
   "metadata": {},
   "source": [
    "Now let's perform the multivariate analysis on the categorical columns only. "
   ]
  },
  {
   "cell_type": "code",
   "execution_count": 300,
   "metadata": {},
   "outputs": [],
   "source": [
    "def multicat(colum1, colum2):\n",
    "    f, ax = plt.subplots(1, 1, figsize=(15, 8))\n",
    "    ax = sns.countplot(x = colum1 , hue = colum2, data = drop_duplit)"
   ]
  },
  {
   "cell_type": "code",
   "execution_count": 301,
   "metadata": {},
   "outputs": [
    {
     "data": {
      "image/png": "[encoded data removed]",
      "text/plain": [
       "<Figure size 1080x576 with 1 Axes>"
      ]
     },
     "metadata": {
      "needs_background": "light"
     },
     "output_type": "display_data"
    }
   ],
   "source": [
    "muni_empr = multicat('Município', 'Empresa')"
   ]
  },
  {
   "cell_type": "code",
   "execution_count": 302,
   "metadata": {},
   "outputs": [
    {
     "data": {
      "image/png": "[encoded data removed]",
      "text/plain": [
       "<Figure size 1080x576 with 1 Axes>"
      ]
     },
     "metadata": {
      "needs_background": "light"
     },
     "output_type": "display_data"
    }
   ],
   "source": [
    "empr_tech = multicat('Empresa', 'Tecnologia')"
   ]
  },
  {
   "cell_type": "code",
   "execution_count": 303,
   "metadata": {},
   "outputs": [
    {
     "data": {
      "image/png": "[encoded data removed]",
      "text/plain": [
       "<Figure size 1080x576 with 1 Axes>"
      ]
     },
     "metadata": {
      "needs_background": "light"
     },
     "output_type": "display_data"
    }
   ],
   "source": [
    "empr_faixa = multicat('Empresa', 'Faixa de Velocidade')"
   ]
  },
  {
   "cell_type": "code",
   "execution_count": 304,
   "metadata": {},
   "outputs": [
    {
     "data": {
      "image/png": "[encoded data removed]",
      "text/plain": [
       "<Figure size 1080x576 with 1 Axes>"
      ]
     },
     "metadata": {
      "needs_background": "light"
     },
     "output_type": "display_data"
    }
   ],
   "source": [
    "muni_techn = multicat('Município', 'Tecnologia')"
   ]
  },
  {
   "cell_type": "code",
   "execution_count": 305,
   "metadata": {},
   "outputs": [
    {
     "data": {
      "image/png": "[encoded data removed]",
      "text/plain": [
       "<Figure size 1080x576 with 1 Axes>"
      ]
     },
     "metadata": {
      "needs_background": "light"
     },
     "output_type": "display_data"
    }
   ],
   "source": [
    "muni_faixa = multicat('Município', 'Faixa de Velocidade')"
   ]
  },
  {
   "cell_type": "code",
   "execution_count": 306,
   "metadata": {},
   "outputs": [
    {
     "data": {
      "image/png": "[encoded data removed]",
      "text/plain": [
       "<Figure size 1080x576 with 1 Axes>"
      ]
     },
     "metadata": {
      "needs_background": "light"
     },
     "output_type": "display_data"
    }
   ],
   "source": [
    "faixa_tecnh = multicat('Faixa de Velocidade', 'Tecnologia')"
   ]
  },
  {
   "cell_type": "markdown",
   "metadata": {},
   "source": [
    "# HYPOTHESIS TESTING"
   ]
  },
  {
   "cell_type": "markdown",
   "metadata": {},
   "source": [
    "2 Sample T-test \n",
    "\n",
    "Does the access to Internet changes from one city to another ?\n",
    "\n",
    "H0: The access to internet in São Paulo and in Campinas is the same\n",
    "\n",
    "H1: The access to internet in São Paulo and in Campinas is not the same"
   ]
  },
  {
   "cell_type": "code",
   "execution_count": 309,
   "metadata": {},
   "outputs": [
    {
     "name": "stdout",
     "output_type": "stream",
     "text": [
      "Rejecting Null Hypothesis. That means the access to internet in São Paulo and in Campinas is not the same\n"
     ]
    }
   ],
   "source": [
    "x = np.array(drop_duplit[drop_duplit.Município == 'São Paulo'].Acessos) \n",
    "y = np.array(drop_duplit[drop_duplit.Município == 'Campinas'].Acessos)\n",
    "t, p_value  = stats.ttest_ind(x,y, axis = 0) \n",
    "if p_value < 0.05:  # Setting our significance level at 5%\n",
    "    print('Rejecting Null Hypothesis. That means the access to internet in São Paulo and in Campinas is not the same')\n",
    "else:\n",
    "    print('Fail to Reject Null Hypothesis. That means the access to internet in São Paulo and in Campinasis the same')"
   ]
  },
  {
   "cell_type": "markdown",
   "metadata": {},
   "source": [
    "2 Sample T-test \n",
    "\n",
    "Does the access to Internet changes from one internet provider to another ?\n",
    "\n",
    "H0: The access to internet with CLARO and VIVO is the same\n",
    "\n",
    "H1: The access to internet with CLARO and VIVO is not the same"
   ]
  },
  {
   "cell_type": "code",
   "execution_count": 310,
   "metadata": {},
   "outputs": [
    {
     "name": "stdout",
     "output_type": "stream",
     "text": [
      "Fail to Reject Null Hypothesis. That means the access to internet with CLARO and VIVO is the same\n"
     ]
    }
   ],
   "source": [
    "x = np.array(drop_duplit[drop_duplit.Empresa == 'CLARO'].Acessos) \n",
    "y = np.array(drop_duplit[drop_duplit.Empresa == 'VIVO'].Acessos)\n",
    "t, p_value_2  = stats.ttest_ind(x,y, axis = 0) \n",
    "if p_value_2 < 0.05:  # Setting our significance level at 5%\n",
    "    print('Rejecting Null Hypothesis. That means that the access to internet with CLARO and VIVO is not the same')\n",
    "else:\n",
    "    print('Fail to Reject Null Hypothesis. That means the access to internet with CLARO and VIVO is the same')"
   ]
  },
  {
   "cell_type": "markdown",
   "metadata": {},
   "source": [
    "2 Sample T-test \n",
    "\n",
    "Does the access to Internet changes with the internet speed range ?\n",
    "\n",
    "H0: The access to internet with a speed ranges of 2Mbps-12Mbps is the same with one of 512kbps-2Mbps\n",
    "\n",
    "H1: The access to internet with a speed ranges of 2Mbps-12Mbps is not the same with one of 512kbps-2Mbps"
   ]
  },
  {
   "cell_type": "code",
   "execution_count": 311,
   "metadata": {},
   "outputs": [
    {
     "name": "stdout",
     "output_type": "stream",
     "text": [
      "Fail to Reject Null Hypothesis\n"
     ]
    }
   ],
   "source": [
    "x = np.array(drop_duplit[drop_duplit['Faixa de Velocidade'] == '2Mbps a 12Mbps'].Acessos) \n",
    "y = np.array(drop_duplit[drop_duplit['Faixa de Velocidade'] == '512kpbs a 2Mbps'].Acessos)\n",
    "t, p_value_3  = stats.ttest_ind(x,y, axis = 0) \n",
    "if p_value_3 < 0.05:  # Setting our significance level at 5%\n",
    "    print('Rejecting Null Hypothesis.')\n",
    "else:\n",
    "    print('Fail to Reject Null Hypothesis')"
   ]
  },
  {
   "cell_type": "markdown",
   "metadata": {},
   "source": [
    "2 Sample T-test \n",
    "\n",
    "Does the access to Internet changes with the internet technology ?\n",
    "\n",
    "H0: The access to internet with a xDSL technology is the same with Optical Fiber , \"Fibra\"\n",
    "\n",
    "H0: The access to internet with a xDSL technology is not the same with Optical Fiber , \"Fibra\""
   ]
  },
  {
   "cell_type": "code",
   "execution_count": 312,
   "metadata": {},
   "outputs": [
    {
     "name": "stdout",
     "output_type": "stream",
     "text": [
      "Rejecting Null Hypothesis.\n"
     ]
    }
   ],
   "source": [
    "x = np.array(drop_duplit[drop_duplit['Tecnologia'] == 'xDSL'].Acessos) \n",
    "y = np.array(drop_duplit[drop_duplit['Tecnologia'] == 'Fibra'].Acessos)\n",
    "t, p_value_4  = stats.ttest_ind(x,y, axis = 0) \n",
    "if p_value_4 < 0.05:  # Setting our significance level at 5%\n",
    "    print('Rejecting Null Hypothesis.')\n",
    "else:\n",
    "    print('Fail to Reject Null Hypothesis.')"
   ]
  },
  {
   "cell_type": "markdown",
   "metadata": {},
   "source": [
    "# HEATMAP"
   ]
  },
  {
   "cell_type": "code",
   "execution_count": 313,
   "metadata": {},
   "outputs": [
    {
     "data": {
      "text/html": [
       "<div>\n",
       "<style scoped>\n",
       "    .dataframe tbody tr th:only-of-type {\n",
       "        vertical-align: middle;\n",
       "    }\n",
       "\n",
       "    .dataframe tbody tr th {\n",
       "        vertical-align: top;\n",
       "    }\n",
       "\n",
       "    .dataframe thead th {\n",
       "        text-align: right;\n",
       "    }\n",
       "</style>\n",
       "<table border=\"1\" class=\"dataframe\">\n",
       "  <thead>\n",
       "    <tr style=\"text-align: right;\">\n",
       "      <th></th>\n",
       "      <th>Ano</th>\n",
       "      <th>Mês</th>\n",
       "      <th>Empresa</th>\n",
       "      <th>Município</th>\n",
       "      <th>Faixa de Velocidade</th>\n",
       "      <th>Tecnologia</th>\n",
       "      <th>Acessos</th>\n",
       "    </tr>\n",
       "  </thead>\n",
       "  <tbody>\n",
       "    <tr>\n",
       "      <th>2382887</th>\n",
       "      <td>2015</td>\n",
       "      <td>1</td>\n",
       "      <td>VIVO</td>\n",
       "      <td>São Paulo</td>\n",
       "      <td>512kbps a 2Mbps</td>\n",
       "      <td>xDSL</td>\n",
       "      <td>684175</td>\n",
       "    </tr>\n",
       "    <tr>\n",
       "      <th>2410398</th>\n",
       "      <td>2015</td>\n",
       "      <td>1</td>\n",
       "      <td>CLARO</td>\n",
       "      <td>São Paulo</td>\n",
       "      <td>512kbps a 2Mbps</td>\n",
       "      <td>Cable Modem</td>\n",
       "      <td>268494</td>\n",
       "    </tr>\n",
       "    <tr>\n",
       "      <th>2412232</th>\n",
       "      <td>2015</td>\n",
       "      <td>1</td>\n",
       "      <td>CLARO</td>\n",
       "      <td>São Paulo</td>\n",
       "      <td>12Mbps a 34Mbps</td>\n",
       "      <td>Cable Modem</td>\n",
       "      <td>161410</td>\n",
       "    </tr>\n",
       "    <tr>\n",
       "      <th>2413582</th>\n",
       "      <td>2015</td>\n",
       "      <td>1</td>\n",
       "      <td>CLARO</td>\n",
       "      <td>Campinas</td>\n",
       "      <td>2Mbps a 12Mbps</td>\n",
       "      <td>Cable Modem</td>\n",
       "      <td>121274</td>\n",
       "    </tr>\n",
       "    <tr>\n",
       "      <th>2417466</th>\n",
       "      <td>2015</td>\n",
       "      <td>1</td>\n",
       "      <td>CLARO</td>\n",
       "      <td>São Paulo</td>\n",
       "      <td>2Mbps a 12Mbps</td>\n",
       "      <td>Cable Modem</td>\n",
       "      <td>1004614</td>\n",
       "    </tr>\n",
       "    <tr>\n",
       "      <th>...</th>\n",
       "      <td>...</td>\n",
       "      <td>...</td>\n",
       "      <td>...</td>\n",
       "      <td>...</td>\n",
       "      <td>...</td>\n",
       "      <td>...</td>\n",
       "      <td>...</td>\n",
       "    </tr>\n",
       "    <tr>\n",
       "      <th>87652</th>\n",
       "      <td>2020</td>\n",
       "      <td>12</td>\n",
       "      <td>CLARO</td>\n",
       "      <td>Campinas</td>\n",
       "      <td>&gt; 34Mbps</td>\n",
       "      <td>HFC</td>\n",
       "      <td>145494</td>\n",
       "    </tr>\n",
       "    <tr>\n",
       "      <th>98061</th>\n",
       "      <td>2020</td>\n",
       "      <td>12</td>\n",
       "      <td>CLARO</td>\n",
       "      <td>São Paulo</td>\n",
       "      <td>2Mbps a 12Mbps</td>\n",
       "      <td>HFC</td>\n",
       "      <td>123499</td>\n",
       "    </tr>\n",
       "    <tr>\n",
       "      <th>98341</th>\n",
       "      <td>2020</td>\n",
       "      <td>12</td>\n",
       "      <td>CLARO</td>\n",
       "      <td>Sorocaba</td>\n",
       "      <td>&gt; 34Mbps</td>\n",
       "      <td>HFC</td>\n",
       "      <td>103783</td>\n",
       "    </tr>\n",
       "    <tr>\n",
       "      <th>98485</th>\n",
       "      <td>2020</td>\n",
       "      <td>12</td>\n",
       "      <td>CLARO</td>\n",
       "      <td>São Paulo</td>\n",
       "      <td>&gt; 34Mbps</td>\n",
       "      <td>HFC</td>\n",
       "      <td>1224902</td>\n",
       "    </tr>\n",
       "    <tr>\n",
       "      <th>98634</th>\n",
       "      <td>2020</td>\n",
       "      <td>12</td>\n",
       "      <td>CLARO</td>\n",
       "      <td>São Paulo</td>\n",
       "      <td>12Mbps a 34Mbps</td>\n",
       "      <td>HFC</td>\n",
       "      <td>146730</td>\n",
       "    </tr>\n",
       "  </tbody>\n",
       "</table>\n",
       "<p>517 rows × 7 columns</p>\n",
       "</div>"
      ],
      "text/plain": [
       "          Ano  Mês Empresa  Município Faixa de Velocidade   Tecnologia  \\\n",
       "2382887  2015    1    VIVO  São Paulo     512kbps a 2Mbps         xDSL   \n",
       "2410398  2015    1   CLARO  São Paulo     512kbps a 2Mbps  Cable Modem   \n",
       "2412232  2015    1   CLARO  São Paulo     12Mbps a 34Mbps  Cable Modem   \n",
       "2413582  2015    1   CLARO   Campinas      2Mbps a 12Mbps  Cable Modem   \n",
       "2417466  2015    1   CLARO  São Paulo      2Mbps a 12Mbps  Cable Modem   \n",
       "...       ...  ...     ...        ...                 ...          ...   \n",
       "87652    2020   12   CLARO   Campinas            > 34Mbps          HFC   \n",
       "98061    2020   12   CLARO  São Paulo      2Mbps a 12Mbps          HFC   \n",
       "98341    2020   12   CLARO   Sorocaba            > 34Mbps          HFC   \n",
       "98485    2020   12   CLARO  São Paulo            > 34Mbps          HFC   \n",
       "98634    2020   12   CLARO  São Paulo     12Mbps a 34Mbps          HFC   \n",
       "\n",
       "         Acessos  \n",
       "2382887   684175  \n",
       "2410398   268494  \n",
       "2412232   161410  \n",
       "2413582   121274  \n",
       "2417466  1004614  \n",
       "...          ...  \n",
       "87652     145494  \n",
       "98061     123499  \n",
       "98341     103783  \n",
       "98485    1224902  \n",
       "98634     146730  \n",
       "\n",
       "[517 rows x 7 columns]"
      ]
     },
     "execution_count": 313,
     "metadata": {},
     "output_type": "execute_result"
    }
   ],
   "source": [
    "drop_sort = drop_duplit.copy()\n",
    "drop_sort"
   ]
  },
  {
   "cell_type": "code",
   "execution_count": 314,
   "metadata": {},
   "outputs": [
    {
     "data": {
      "text/plain": [
       "Ano                       int64\n",
       "Mês                       int64\n",
       "Empresa                category\n",
       "Município              category\n",
       "Faixa de Velocidade    category\n",
       "Tecnologia             category\n",
       "Acessos                   int64\n",
       "dtype: object"
      ]
     },
     "execution_count": 314,
     "metadata": {},
     "output_type": "execute_result"
    }
   ],
   "source": [
    "drop_sort[['Empresa', 'Município','Faixa de Velocidade', 'Tecnologia']] = drop_sort[['Empresa', 'Município','Faixa de Velocidade', 'Tecnologia']].astype('category')\n",
    "drop_sort.dtypes"
   ]
  },
  {
   "cell_type": "code",
   "execution_count": 315,
   "metadata": {},
   "outputs": [
    {
     "data": {
      "text/plain": [
       "Ano                    int64\n",
       "Mês                    int64\n",
       "Empresa                int32\n",
       "Município              int32\n",
       "Faixa de Velocidade    int32\n",
       "Tecnologia             int32\n",
       "Acessos                int64\n",
       "dtype: object"
      ]
     },
     "execution_count": 315,
     "metadata": {},
     "output_type": "execute_result"
    }
   ],
   "source": [
    "label = LabelEncoder()\n",
    "label.fit(drop_sort.Empresa)\n",
    "drop_sort.Empresa = label.transform(drop_sort.Empresa)\n",
    "label.fit(drop_sort['Município'])\n",
    "drop_sort['Município'] = label.transform(drop_sort['Município'])\n",
    "label.fit(drop_sort['Faixa de Velocidade'])\n",
    "drop_sort['Faixa de Velocidade'] = label.transform(drop_sort['Faixa de Velocidade'])\n",
    "label.fit(drop_sort['Tecnologia'])\n",
    "drop_sort['Tecnologia'] = label.transform(drop_sort['Tecnologia'])\n",
    "drop_sort.dtypes"
   ]
  },
  {
   "cell_type": "code",
   "execution_count": 320,
   "metadata": {},
   "outputs": [
    {
     "data": {
      "image/png": "[encoded data removed]",
      "text/plain": [
       "<Figure size 1080x1080 with 2 Axes>"
      ]
     },
     "metadata": {
      "needs_background": "light"
     },
     "output_type": "display_data"
    }
   ],
   "source": [
    "#Correlation matrix\n",
    "f, ax = plt.subplots(1, 1, figsize=(15, 15))\n",
    "ax = sns.heatmap(drop_sort.corr(), annot=True, cmap='Set3')"
   ]
  },
  {
   "cell_type": "markdown",
   "metadata": {},
   "source": [
    "Remove multicollinearity"
   ]
  },
  {
   "cell_type": "code",
   "execution_count": 321,
   "metadata": {},
   "outputs": [],
   "source": [
    "from patsy import dmatrices\n",
    "import statsmodels.api as sm\n",
    "from statsmodels.stats.outliers_influence import variance_inflation_factor"
   ]
  },
  {
   "cell_type": "code",
   "execution_count": 322,
   "metadata": {},
   "outputs": [
    {
     "data": {
      "text/html": [
       "<div>\n",
       "<style scoped>\n",
       "    .dataframe tbody tr th:only-of-type {\n",
       "        vertical-align: middle;\n",
       "    }\n",
       "\n",
       "    .dataframe tbody tr th {\n",
       "        vertical-align: top;\n",
       "    }\n",
       "\n",
       "    .dataframe thead th {\n",
       "        text-align: right;\n",
       "    }\n",
       "</style>\n",
       "<table border=\"1\" class=\"dataframe\">\n",
       "  <thead>\n",
       "    <tr style=\"text-align: right;\">\n",
       "      <th></th>\n",
       "      <th>VIF Factor</th>\n",
       "      <th>features</th>\n",
       "    </tr>\n",
       "  </thead>\n",
       "  <tbody>\n",
       "    <tr>\n",
       "      <th>0</th>\n",
       "      <td>3.1</td>\n",
       "      <td>Empresa</td>\n",
       "    </tr>\n",
       "    <tr>\n",
       "      <th>1</th>\n",
       "      <td>4.0</td>\n",
       "      <td>Município</td>\n",
       "    </tr>\n",
       "    <tr>\n",
       "      <th>2</th>\n",
       "      <td>3.6</td>\n",
       "      <td>Faixa de Velocidade</td>\n",
       "    </tr>\n",
       "    <tr>\n",
       "      <th>3</th>\n",
       "      <td>3.7</td>\n",
       "      <td>Tecnologia</td>\n",
       "    </tr>\n",
       "  </tbody>\n",
       "</table>\n",
       "</div>"
      ],
      "text/plain": [
       "   VIF Factor             features\n",
       "0         3.1              Empresa\n",
       "1         4.0            Município\n",
       "2         3.6  Faixa de Velocidade\n",
       "3         3.7           Tecnologia"
      ]
     },
     "execution_count": 322,
     "metadata": {},
     "output_type": "execute_result"
    }
   ],
   "source": [
    "#Remove multicollinearity\n",
    "#create a list of feature names\n",
    "\n",
    "independent_variables = ['Empresa', 'Município', 'Faixa de Velocidade', 'Tecnologia']\n",
    "X = drop_sort[independent_variables]\n",
    "y = drop_sort['Acessos']\n",
    "\n",
    "vif = pd.DataFrame()\n",
    "vif[\"VIF Factor\"] = [variance_inflation_factor(X.values, i) for i in range(X.shape[1])]\n",
    "vif[\"features\"] = X.columns\n",
    "vif.round(1)\n"
   ]
  },
  {
   "cell_type": "markdown",
   "metadata": {},
   "source": [
    "# DECISION TREE MODELING"
   ]
  },
  {
   "cell_type": "code",
   "execution_count": 323,
   "metadata": {},
   "outputs": [
    {
     "data": {
      "text/html": [
       "<div>\n",
       "<style scoped>\n",
       "    .dataframe tbody tr th:only-of-type {\n",
       "        vertical-align: middle;\n",
       "    }\n",
       "\n",
       "    .dataframe tbody tr th {\n",
       "        vertical-align: top;\n",
       "    }\n",
       "\n",
       "    .dataframe thead th {\n",
       "        text-align: right;\n",
       "    }\n",
       "</style>\n",
       "<table border=\"1\" class=\"dataframe\">\n",
       "  <thead>\n",
       "    <tr style=\"text-align: right;\">\n",
       "      <th></th>\n",
       "      <th>Ano</th>\n",
       "      <th>Mês</th>\n",
       "      <th>Empresa</th>\n",
       "      <th>Município</th>\n",
       "      <th>Faixa de Velocidade</th>\n",
       "      <th>Tecnologia</th>\n",
       "      <th>Acessos</th>\n",
       "    </tr>\n",
       "  </thead>\n",
       "  <tbody>\n",
       "    <tr>\n",
       "      <th>2382887</th>\n",
       "      <td>2015</td>\n",
       "      <td>1</td>\n",
       "      <td>VIVO</td>\n",
       "      <td>São Paulo</td>\n",
       "      <td>512kbps a 2Mbps</td>\n",
       "      <td>xDSL</td>\n",
       "      <td>684175</td>\n",
       "    </tr>\n",
       "    <tr>\n",
       "      <th>2410398</th>\n",
       "      <td>2015</td>\n",
       "      <td>1</td>\n",
       "      <td>CLARO</td>\n",
       "      <td>São Paulo</td>\n",
       "      <td>512kbps a 2Mbps</td>\n",
       "      <td>Cable Modem</td>\n",
       "      <td>268494</td>\n",
       "    </tr>\n",
       "    <tr>\n",
       "      <th>2412232</th>\n",
       "      <td>2015</td>\n",
       "      <td>1</td>\n",
       "      <td>CLARO</td>\n",
       "      <td>São Paulo</td>\n",
       "      <td>12Mbps a 34Mbps</td>\n",
       "      <td>Cable Modem</td>\n",
       "      <td>161410</td>\n",
       "    </tr>\n",
       "    <tr>\n",
       "      <th>2413582</th>\n",
       "      <td>2015</td>\n",
       "      <td>1</td>\n",
       "      <td>CLARO</td>\n",
       "      <td>Campinas</td>\n",
       "      <td>2Mbps a 12Mbps</td>\n",
       "      <td>Cable Modem</td>\n",
       "      <td>121274</td>\n",
       "    </tr>\n",
       "    <tr>\n",
       "      <th>2417466</th>\n",
       "      <td>2015</td>\n",
       "      <td>1</td>\n",
       "      <td>CLARO</td>\n",
       "      <td>São Paulo</td>\n",
       "      <td>2Mbps a 12Mbps</td>\n",
       "      <td>Cable Modem</td>\n",
       "      <td>1004614</td>\n",
       "    </tr>\n",
       "    <tr>\n",
       "      <th>...</th>\n",
       "      <td>...</td>\n",
       "      <td>...</td>\n",
       "      <td>...</td>\n",
       "      <td>...</td>\n",
       "      <td>...</td>\n",
       "      <td>...</td>\n",
       "      <td>...</td>\n",
       "    </tr>\n",
       "    <tr>\n",
       "      <th>87652</th>\n",
       "      <td>2020</td>\n",
       "      <td>12</td>\n",
       "      <td>CLARO</td>\n",
       "      <td>Campinas</td>\n",
       "      <td>&gt; 34Mbps</td>\n",
       "      <td>HFC</td>\n",
       "      <td>145494</td>\n",
       "    </tr>\n",
       "    <tr>\n",
       "      <th>98061</th>\n",
       "      <td>2020</td>\n",
       "      <td>12</td>\n",
       "      <td>CLARO</td>\n",
       "      <td>São Paulo</td>\n",
       "      <td>2Mbps a 12Mbps</td>\n",
       "      <td>HFC</td>\n",
       "      <td>123499</td>\n",
       "    </tr>\n",
       "    <tr>\n",
       "      <th>98341</th>\n",
       "      <td>2020</td>\n",
       "      <td>12</td>\n",
       "      <td>CLARO</td>\n",
       "      <td>Sorocaba</td>\n",
       "      <td>&gt; 34Mbps</td>\n",
       "      <td>HFC</td>\n",
       "      <td>103783</td>\n",
       "    </tr>\n",
       "    <tr>\n",
       "      <th>98485</th>\n",
       "      <td>2020</td>\n",
       "      <td>12</td>\n",
       "      <td>CLARO</td>\n",
       "      <td>São Paulo</td>\n",
       "      <td>&gt; 34Mbps</td>\n",
       "      <td>HFC</td>\n",
       "      <td>1224902</td>\n",
       "    </tr>\n",
       "    <tr>\n",
       "      <th>98634</th>\n",
       "      <td>2020</td>\n",
       "      <td>12</td>\n",
       "      <td>CLARO</td>\n",
       "      <td>São Paulo</td>\n",
       "      <td>12Mbps a 34Mbps</td>\n",
       "      <td>HFC</td>\n",
       "      <td>146730</td>\n",
       "    </tr>\n",
       "  </tbody>\n",
       "</table>\n",
       "<p>517 rows × 7 columns</p>\n",
       "</div>"
      ],
      "text/plain": [
       "          Ano  Mês Empresa  Município Faixa de Velocidade   Tecnologia  \\\n",
       "2382887  2015    1    VIVO  São Paulo     512kbps a 2Mbps         xDSL   \n",
       "2410398  2015    1   CLARO  São Paulo     512kbps a 2Mbps  Cable Modem   \n",
       "2412232  2015    1   CLARO  São Paulo     12Mbps a 34Mbps  Cable Modem   \n",
       "2413582  2015    1   CLARO   Campinas      2Mbps a 12Mbps  Cable Modem   \n",
       "2417466  2015    1   CLARO  São Paulo      2Mbps a 12Mbps  Cable Modem   \n",
       "...       ...  ...     ...        ...                 ...          ...   \n",
       "87652    2020   12   CLARO   Campinas            > 34Mbps          HFC   \n",
       "98061    2020   12   CLARO  São Paulo      2Mbps a 12Mbps          HFC   \n",
       "98341    2020   12   CLARO   Sorocaba            > 34Mbps          HFC   \n",
       "98485    2020   12   CLARO  São Paulo            > 34Mbps          HFC   \n",
       "98634    2020   12   CLARO  São Paulo     12Mbps a 34Mbps          HFC   \n",
       "\n",
       "         Acessos  \n",
       "2382887   684175  \n",
       "2410398   268494  \n",
       "2412232   161410  \n",
       "2413582   121274  \n",
       "2417466  1004614  \n",
       "...          ...  \n",
       "87652     145494  \n",
       "98061     123499  \n",
       "98341     103783  \n",
       "98485    1224902  \n",
       "98634     146730  \n",
       "\n",
       "[517 rows x 7 columns]"
      ]
     },
     "execution_count": 323,
     "metadata": {},
     "output_type": "execute_result"
    }
   ],
   "source": [
    "df=drop_duplit.copy()\n",
    "df"
   ]
  },
  {
   "cell_type": "code",
   "execution_count": 324,
   "metadata": {},
   "outputs": [],
   "source": [
    "df = df[(df['Tecnologia']=='Fibra') | (df['Tecnologia']=='Cable Modem') | (df['Tecnologia']=='HFC') | (df['Tecnologia']=='xDSL') ]\n",
    "df = df.copy()"
   ]
  },
  {
   "cell_type": "code",
   "execution_count": 325,
   "metadata": {},
   "outputs": [],
   "source": [
    "df.loc[df['Acessos'] < 500000, 'Survey'] = 0\n",
    "df.loc[df['Acessos'] >= 500000, 'Survey'] = 1"
   ]
  },
  {
   "cell_type": "code",
   "execution_count": 326,
   "metadata": {},
   "outputs": [
    {
     "data": {
      "text/html": [
       "<div>\n",
       "<style scoped>\n",
       "    .dataframe tbody tr th:only-of-type {\n",
       "        vertical-align: middle;\n",
       "    }\n",
       "\n",
       "    .dataframe tbody tr th {\n",
       "        vertical-align: top;\n",
       "    }\n",
       "\n",
       "    .dataframe thead th {\n",
       "        text-align: right;\n",
       "    }\n",
       "</style>\n",
       "<table border=\"1\" class=\"dataframe\">\n",
       "  <thead>\n",
       "    <tr style=\"text-align: right;\">\n",
       "      <th></th>\n",
       "      <th>Ano</th>\n",
       "      <th>Mês</th>\n",
       "      <th>Empresa</th>\n",
       "      <th>Município</th>\n",
       "      <th>Faixa de Velocidade</th>\n",
       "      <th>Tecnologia</th>\n",
       "      <th>Acessos</th>\n",
       "      <th>Survey</th>\n",
       "    </tr>\n",
       "  </thead>\n",
       "  <tbody>\n",
       "    <tr>\n",
       "      <th>2382887</th>\n",
       "      <td>2015</td>\n",
       "      <td>1</td>\n",
       "      <td>VIVO</td>\n",
       "      <td>São Paulo</td>\n",
       "      <td>512kbps a 2Mbps</td>\n",
       "      <td>xDSL</td>\n",
       "      <td>684175</td>\n",
       "      <td>1</td>\n",
       "    </tr>\n",
       "    <tr>\n",
       "      <th>2410398</th>\n",
       "      <td>2015</td>\n",
       "      <td>1</td>\n",
       "      <td>CLARO</td>\n",
       "      <td>São Paulo</td>\n",
       "      <td>512kbps a 2Mbps</td>\n",
       "      <td>Cable Modem</td>\n",
       "      <td>268494</td>\n",
       "      <td>0</td>\n",
       "    </tr>\n",
       "    <tr>\n",
       "      <th>2412232</th>\n",
       "      <td>2015</td>\n",
       "      <td>1</td>\n",
       "      <td>CLARO</td>\n",
       "      <td>São Paulo</td>\n",
       "      <td>12Mbps a 34Mbps</td>\n",
       "      <td>Cable Modem</td>\n",
       "      <td>161410</td>\n",
       "      <td>0</td>\n",
       "    </tr>\n",
       "    <tr>\n",
       "      <th>2413582</th>\n",
       "      <td>2015</td>\n",
       "      <td>1</td>\n",
       "      <td>CLARO</td>\n",
       "      <td>Campinas</td>\n",
       "      <td>2Mbps a 12Mbps</td>\n",
       "      <td>Cable Modem</td>\n",
       "      <td>121274</td>\n",
       "      <td>0</td>\n",
       "    </tr>\n",
       "    <tr>\n",
       "      <th>2417466</th>\n",
       "      <td>2015</td>\n",
       "      <td>1</td>\n",
       "      <td>CLARO</td>\n",
       "      <td>São Paulo</td>\n",
       "      <td>2Mbps a 12Mbps</td>\n",
       "      <td>Cable Modem</td>\n",
       "      <td>1004614</td>\n",
       "      <td>1</td>\n",
       "    </tr>\n",
       "    <tr>\n",
       "      <th>...</th>\n",
       "      <td>...</td>\n",
       "      <td>...</td>\n",
       "      <td>...</td>\n",
       "      <td>...</td>\n",
       "      <td>...</td>\n",
       "      <td>...</td>\n",
       "      <td>...</td>\n",
       "      <td>...</td>\n",
       "    </tr>\n",
       "    <tr>\n",
       "      <th>87652</th>\n",
       "      <td>2020</td>\n",
       "      <td>12</td>\n",
       "      <td>CLARO</td>\n",
       "      <td>Campinas</td>\n",
       "      <td>&gt; 34Mbps</td>\n",
       "      <td>HFC</td>\n",
       "      <td>145494</td>\n",
       "      <td>0</td>\n",
       "    </tr>\n",
       "    <tr>\n",
       "      <th>98061</th>\n",
       "      <td>2020</td>\n",
       "      <td>12</td>\n",
       "      <td>CLARO</td>\n",
       "      <td>São Paulo</td>\n",
       "      <td>2Mbps a 12Mbps</td>\n",
       "      <td>HFC</td>\n",
       "      <td>123499</td>\n",
       "      <td>0</td>\n",
       "    </tr>\n",
       "    <tr>\n",
       "      <th>98341</th>\n",
       "      <td>2020</td>\n",
       "      <td>12</td>\n",
       "      <td>CLARO</td>\n",
       "      <td>Sorocaba</td>\n",
       "      <td>&gt; 34Mbps</td>\n",
       "      <td>HFC</td>\n",
       "      <td>103783</td>\n",
       "      <td>0</td>\n",
       "    </tr>\n",
       "    <tr>\n",
       "      <th>98485</th>\n",
       "      <td>2020</td>\n",
       "      <td>12</td>\n",
       "      <td>CLARO</td>\n",
       "      <td>São Paulo</td>\n",
       "      <td>&gt; 34Mbps</td>\n",
       "      <td>HFC</td>\n",
       "      <td>1224902</td>\n",
       "      <td>1</td>\n",
       "    </tr>\n",
       "    <tr>\n",
       "      <th>98634</th>\n",
       "      <td>2020</td>\n",
       "      <td>12</td>\n",
       "      <td>CLARO</td>\n",
       "      <td>São Paulo</td>\n",
       "      <td>12Mbps a 34Mbps</td>\n",
       "      <td>HFC</td>\n",
       "      <td>146730</td>\n",
       "      <td>0</td>\n",
       "    </tr>\n",
       "  </tbody>\n",
       "</table>\n",
       "<p>517 rows × 8 columns</p>\n",
       "</div>"
      ],
      "text/plain": [
       "          Ano  Mês Empresa  Município Faixa de Velocidade   Tecnologia  \\\n",
       "2382887  2015    1    VIVO  São Paulo     512kbps a 2Mbps         xDSL   \n",
       "2410398  2015    1   CLARO  São Paulo     512kbps a 2Mbps  Cable Modem   \n",
       "2412232  2015    1   CLARO  São Paulo     12Mbps a 34Mbps  Cable Modem   \n",
       "2413582  2015    1   CLARO   Campinas      2Mbps a 12Mbps  Cable Modem   \n",
       "2417466  2015    1   CLARO  São Paulo      2Mbps a 12Mbps  Cable Modem   \n",
       "...       ...  ...     ...        ...                 ...          ...   \n",
       "87652    2020   12   CLARO   Campinas            > 34Mbps          HFC   \n",
       "98061    2020   12   CLARO  São Paulo      2Mbps a 12Mbps          HFC   \n",
       "98341    2020   12   CLARO   Sorocaba            > 34Mbps          HFC   \n",
       "98485    2020   12   CLARO  São Paulo            > 34Mbps          HFC   \n",
       "98634    2020   12   CLARO  São Paulo     12Mbps a 34Mbps          HFC   \n",
       "\n",
       "         Acessos  Survey  \n",
       "2382887   684175       1  \n",
       "2410398   268494       0  \n",
       "2412232   161410       0  \n",
       "2413582   121274       0  \n",
       "2417466  1004614       1  \n",
       "...          ...     ...  \n",
       "87652     145494       0  \n",
       "98061     123499       0  \n",
       "98341     103783       0  \n",
       "98485    1224902       1  \n",
       "98634     146730       0  \n",
       "\n",
       "[517 rows x 8 columns]"
      ]
     },
     "execution_count": 326,
     "metadata": {},
     "output_type": "execute_result"
    }
   ],
   "source": [
    "df['Survey'] = df['Survey'].astype(int)\n",
    "df"
   ]
  },
  {
   "cell_type": "markdown",
   "metadata": {},
   "source": [
    "Modeling the decision tree classifier"
   ]
  },
  {
   "cell_type": "code",
   "execution_count": 327,
   "metadata": {},
   "outputs": [],
   "source": [
    "inputs = df.drop(columns=['Acessos', 'Survey'])\n",
    "target = df['Survey']"
   ]
  },
  {
   "cell_type": "code",
   "execution_count": 328,
   "metadata": {},
   "outputs": [
    {
     "data": {
      "text/plain": [
       "Ano                       int64\n",
       "Mês                       int64\n",
       "Empresa                category\n",
       "Município              category\n",
       "Faixa de Velocidade    category\n",
       "Tecnologia             category\n",
       "dtype: object"
      ]
     },
     "execution_count": 328,
     "metadata": {},
     "output_type": "execute_result"
    }
   ],
   "source": [
    "inputs[['Empresa', 'Município','Faixa de Velocidade', 'Tecnologia']] = inputs[['Empresa', 'Município','Faixa de Velocidade', 'Tecnologia']].astype('category')\n",
    "inputs.dtypes"
   ]
  },
  {
   "cell_type": "code",
   "execution_count": 329,
   "metadata": {},
   "outputs": [
    {
     "data": {
      "text/plain": [
       "Ano                    int64\n",
       "Mês                    int64\n",
       "Empresa                int32\n",
       "Município              int32\n",
       "Faixa de Velocidade    int32\n",
       "Tecnologia             int32\n",
       "dtype: object"
      ]
     },
     "execution_count": 329,
     "metadata": {},
     "output_type": "execute_result"
    }
   ],
   "source": [
    "label = LabelEncoder()\n",
    "label.fit(inputs.Empresa)\n",
    "inputs.Empresa = label.transform(inputs.Empresa)\n",
    "label.fit(inputs['Município'])\n",
    "inputs['Município'] = label.transform(inputs['Município'])\n",
    "label.fit(inputs['Faixa de Velocidade'])\n",
    "inputs['Faixa de Velocidade'] = label.transform(inputs['Faixa de Velocidade'])\n",
    "label.fit(inputs['Tecnologia'])\n",
    "inputs['Tecnologia'] = label.transform(inputs['Tecnologia'])\n",
    "inputs.dtypes"
   ]
  },
  {
   "cell_type": "code",
   "execution_count": 330,
   "metadata": {},
   "outputs": [],
   "source": [
    "x_train = inputs.iloc[:-30]\n",
    "x_test = inputs.iloc[-30:]\n",
    "y_train = target.iloc[:-30]\n",
    "y_test = target.iloc[-30:]"
   ]
  },
  {
   "cell_type": "code",
   "execution_count": 331,
   "metadata": {},
   "outputs": [],
   "source": [
    "from sklearn import tree"
   ]
  },
  {
   "cell_type": "code",
   "execution_count": 332,
   "metadata": {},
   "outputs": [
    {
     "data": {
      "text/plain": [
       "DecisionTreeClassifier()"
      ]
     },
     "execution_count": 332,
     "metadata": {},
     "output_type": "execute_result"
    }
   ],
   "source": [
    "model = tree.DecisionTreeClassifier()\n",
    "model.fit(x_train, y_train)"
   ]
  },
  {
   "cell_type": "code",
   "execution_count": 333,
   "metadata": {},
   "outputs": [],
   "source": [
    "from sklearn.metrics import accuracy_score"
   ]
  },
  {
   "cell_type": "code",
   "execution_count": 334,
   "metadata": {},
   "outputs": [],
   "source": [
    "y_pred = model.predict(x_test)"
   ]
  },
  {
   "cell_type": "code",
   "execution_count": 337,
   "metadata": {},
   "outputs": [
    {
     "name": "stdout",
     "output_type": "stream",
     "text": [
      "The accuracy of the model is  1.0\n"
     ]
    }
   ],
   "source": [
    "print('The accuracy of the model is ', accuracy_score(y_test, y_pred))"
   ]
  },
  {
   "cell_type": "markdown",
   "metadata": {},
   "source": [
    "# OPERATIONAL KEY PERFORMANCE INDEX ANALYSIS"
   ]
  },
  {
   "cell_type": "markdown",
   "metadata": {},
   "source": [
    "# Market Share of Internet access"
   ]
  },
  {
   "cell_type": "code",
   "execution_count": 338,
   "metadata": {},
   "outputs": [],
   "source": [
    "kpi_acesso = df.sort_values(by=['Ano', 'Mês']).copy()"
   ]
  },
  {
   "cell_type": "code",
   "execution_count": 339,
   "metadata": {},
   "outputs": [],
   "source": [
    "# Let's add a column 'Região' which represents the brazilian regions. \n",
    "T1 = [1, 2, 3]\n",
    "T2 = [4, 5, 6]\n",
    "T3 = [7, 8, 9]\n",
    "T4 = [10, 11, 12]\n",
    "\n",
    "kpi_acesso['Trimestre'] = [\"T1\" if x in T1 else\n",
    "                         (\"T2\" if x in T2 else \n",
    "                          ('T3' if x in T3 else\n",
    "                          'T4')) for x in kpi_acesso['Mês']]"
   ]
  },
  {
   "cell_type": "code",
   "execution_count": 340,
   "metadata": {},
   "outputs": [
    {
     "data": {
      "text/html": [
       "<div>\n",
       "<style scoped>\n",
       "    .dataframe tbody tr th:only-of-type {\n",
       "        vertical-align: middle;\n",
       "    }\n",
       "\n",
       "    .dataframe tbody tr th {\n",
       "        vertical-align: top;\n",
       "    }\n",
       "\n",
       "    .dataframe thead th {\n",
       "        text-align: right;\n",
       "    }\n",
       "</style>\n",
       "<table border=\"1\" class=\"dataframe\">\n",
       "  <thead>\n",
       "    <tr style=\"text-align: right;\">\n",
       "      <th></th>\n",
       "      <th>Market Share</th>\n",
       "    </tr>\n",
       "    <tr>\n",
       "      <th>Empresa</th>\n",
       "      <th></th>\n",
       "    </tr>\n",
       "  </thead>\n",
       "  <tbody>\n",
       "    <tr>\n",
       "      <th>CLARO</th>\n",
       "      <td>51.804249</td>\n",
       "    </tr>\n",
       "    <tr>\n",
       "      <th>TIM</th>\n",
       "      <td>6.106670</td>\n",
       "    </tr>\n",
       "    <tr>\n",
       "      <th>VIVO</th>\n",
       "      <td>42.089081</td>\n",
       "    </tr>\n",
       "  </tbody>\n",
       "</table>\n",
       "</div>"
      ],
      "text/plain": [
       "         Market Share\n",
       "Empresa              \n",
       "CLARO       51.804249\n",
       "TIM          6.106670\n",
       "VIVO        42.089081"
      ]
     },
     "execution_count": 340,
     "metadata": {},
     "output_type": "execute_result"
    }
   ],
   "source": [
    "kpi_trim = kpi_acesso.groupby(['Empresa']).sum()\n",
    "soma = kpi_trim['Acessos'].sum()\n",
    "kpi_trim['Market Share'] = [ (x  * 100)/ soma  for x in kpi_trim['Acessos']]\n",
    "kpi_trim = kpi_trim.drop(columns=['Ano', 'Mês', 'Survey', 'Acessos'])\n",
    "kpi_trim"
   ]
  },
  {
   "cell_type": "markdown",
   "metadata": {},
   "source": [
    "# Penetration of Internet access"
   ]
  },
  {
   "cell_type": "code",
   "execution_count": 341,
   "metadata": {},
   "outputs": [
    {
     "data": {
      "image/png": "[encoded data removed]",
      "text/plain": [
       "<Figure size 1080x576 with 1 Axes>"
      ]
     },
     "metadata": {
      "needs_background": "light"
     },
     "output_type": "display_data"
    }
   ],
   "source": [
    "f, ax = plt.subplots(1, 1, figsize=(15, 8))\n",
    "ax = sns.barplot(x = kpi_acesso['Ano'], y = kpi_acesso['Acessos'], hue = kpi_acesso['Empresa'])"
   ]
  },
  {
   "cell_type": "code",
   "execution_count": 342,
   "metadata": {},
   "outputs": [
    {
     "data": {
      "image/png": "[encoded data removed]",
      "text/plain": [
       "<Figure size 1080x576 with 1 Axes>"
      ]
     },
     "metadata": {
      "needs_background": "light"
     },
     "output_type": "display_data"
    }
   ],
   "source": [
    "f, ax = plt.subplots(1, 1, figsize=(15, 8))\n",
    "ax = sns.barplot(x = kpi_acesso['Ano'], y = kpi_acesso['Acessos'], hue = kpi_acesso['Município'])"
   ]
  }
 ],
 "metadata": {
  "kernelspec": {
   "display_name": "Python 3",
   "language": "python",
   "name": "python3"
  },
  "language_info": {
   "codemirror_mode": {
    "name": "ipython",
    "version": 3
   },
   "file_extension": ".py",
   "mimetype": "text/x-python",
   "name": "python",
   "nbconvert_exporter": "python",
   "pygments_lexer": "ipython3",
   "version": "3.8.3"
  }
 },
 "nbformat": 4,
 "nbformat_minor": 4
}
