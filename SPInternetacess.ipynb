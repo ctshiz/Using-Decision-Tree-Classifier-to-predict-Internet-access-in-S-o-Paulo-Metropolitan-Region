{
 "cells": [
  {
   "cell_type": "markdown",
   "metadata": {},
   "source": [
    "# ANALYSIS OF INTERNET ACCESS IN SÃO PAULO METROPOLITAN REGION OVER 2007-2020\n"
   ]
  },
  {
   "cell_type": "markdown",
   "metadata": {},
   "source": [
    "# 1.SCRAPING GOVERN WEBSITE WITH SELENIUM"
   ]
  },
  {
   "cell_type": "code",
   "execution_count": 1,
   "metadata": {},
   "outputs": [],
   "source": [
    "#Import webdriver and keys from selenium\n",
    "from selenium import webdriver\n",
    "from selenium.webdriver.common.keys import Keys"
   ]
  },
  {
   "cell_type": "code",
   "execution_count": 2,
   "metadata": {},
   "outputs": [],
   "source": [
    "#open a new Firefox browser. \n",
    "#don't forget to specify the path of the executable path as below\n",
    "browser = webdriver.Firefox(executable_path=r'C://Webdriver/bin/geckodriver.exe')\n",
    "\n",
    "#load the url homepage and stop the jupyter for 10s in order to complete the loading of the page\n",
    "browser.get('https://dados.gov.br/dataset')\n",
    "import time\n",
    "time.sleep(10)"
   ]
  },
  {
   "cell_type": "code",
   "execution_count": 3,
   "metadata": {},
   "outputs": [],
   "source": [
    "# Find the search box \n",
    "element = browser.find_element_by_xpath(\"//*[@id='dataset-search-form']/div[1]\")\n",
    "element.click()\n",
    "\n",
    "#verify that \"dados\" is the title of the homepage\n",
    "assert 'dados' in browser.title\n",
    "\n",
    "#prepare the search box to find a specific word. \n",
    "elem = browser.find_element_by_name(\"q\")\n",
    "\n",
    "#clear the search box \n",
    "elem.clear()\n",
    "#write the keyword to find and ask the search box to return the elements with the keyword\n",
    "elem.send_keys(\"Multimídia\")\n",
    "elem.send_keys(Keys.RETURN)"
   ]
  },
  {
   "cell_type": "code",
   "execution_count": 4,
   "metadata": {},
   "outputs": [],
   "source": [
    "#select the format of the element of interest. here the element selected is \"Acesso de Comunicacao Multimídia\" in csv format\n",
    "element = browser.find_element_by_xpath(\"//*[@id='content']/div[3]/div/section[1]/div/ul/li[1]/ul/li[1]/a\")\n",
    "element.click()"
   ]
  },
  {
   "cell_type": "code",
   "execution_count": 5,
   "metadata": {},
   "outputs": [],
   "source": [
    "#select explore option\n",
    "element1 = browser.find_element_by_xpath(\"//*[@id='dataset-resources']/ul/li[1]/div\")\n",
    "element1.click()"
   ]
  },
  {
   "cell_type": "code",
   "execution_count": 6,
   "metadata": {},
   "outputs": [],
   "source": [
    "#select \"ir para recursos\" to download the zip file\n",
    "element2 = browser.find_element_by_xpath(\"//*[@id='dataset-resources']/ul/li[1]/div/ul/li[2]/a\")\n",
    "element2.click()"
   ]
  },
  {
   "cell_type": "markdown",
   "metadata": {},
   "source": [
    "# 2. EXPLORATORY DATA ANALYSIS"
   ]
  },
  {
   "cell_type": "code",
   "execution_count": 156,
   "metadata": {},
   "outputs": [],
   "source": [
    "#Import libraries to manipulate the data\n",
    "import pandas as pd\n",
    "import matplotlib.pyplot as plt\n",
    "import numpy as np\n",
    "import seaborn as sns \n",
    "from scipy.stats import ttest_ind\n",
    "import scipy.stats as stats\n",
    "from scipy.stats import f_oneway\n",
    "from sklearn.preprocessing import LabelEncoder"
   ]
  },
  {
   "cell_type": "markdown",
   "metadata": {},
   "source": [
    "# 2.1. Import data "
   ]
  },
  {
   "cell_type": "code",
   "execution_count": 157,
   "metadata": {},
   "outputs": [],
   "source": [
    "acesso_2016 = pd.read_csv(\"Acessos_Banda_Larga_Fixa_2015-2016.csv\", sep = ';', error_bad_lines = False)\n",
    "acesso_2018 = pd.read_csv(\"Acessos_Banda_Larga_Fixa_2017-2018.csv\", sep = ';', error_bad_lines = False)\n",
    "acesso_2020 = pd.read_csv(\"Acessos_Banda_Larga_Fixa_2019-2020.csv\", sep = ';', error_bad_lines = False)\n"
   ]
  },
  {
   "cell_type": "markdown",
   "metadata": {},
   "source": [
    "# 2.2. Drop small companies and states other than São Paulo"
   ]
  },
  {
   "cell_type": "code",
   "execution_count": 4,
   "metadata": {},
   "outputs": [
    {
     "data": {
      "text/plain": [
       "Index(['Ano', 'Mês', 'Grupo Econômico', 'Empresa', 'CNPJ',\n",
       "       'Porte da Prestadora', 'UF', 'Município', 'Código IBGE Município',\n",
       "       'Faixa de Velocidade', 'Tecnologia', 'Meio de Acesso', 'Acessos'],\n",
       "      dtype='object')"
      ]
     },
     "execution_count": 4,
     "metadata": {},
     "output_type": "execute_result"
    }
   ],
   "source": [
    "acesso_2020.columns"
   ]
  },
  {
   "cell_type": "code",
   "execution_count": 5,
   "metadata": {},
   "outputs": [
    {
     "data": {
      "text/plain": [
       "array(['Pequeno Porte', 'Grande Porte'], dtype=object)"
      ]
     },
     "execution_count": 5,
     "metadata": {},
     "output_type": "execute_result"
    }
   ],
   "source": [
    "acesso_2020['Porte da Prestadora'].unique()"
   ]
  },
  {
   "cell_type": "code",
   "execution_count": 158,
   "metadata": {},
   "outputs": [],
   "source": [
    "def porte(dataframe, column1, column2):\n",
    "    porte = dataframe.copy()\n",
    "    porte = porte.drop(porte[(porte['Porte da Prestadora'] != column1) | (porte['UF'] != column2)].index)\n",
    "    return porte"
   ]
  },
  {
   "cell_type": "code",
   "execution_count": 159,
   "metadata": {},
   "outputs": [],
   "source": [
    "acesso_2016_sp = porte(acesso_2016, 'Grande Porte', 'SP')\n",
    "acesso_2018_sp = porte(acesso_2018, 'Grande Porte', 'SP')\n",
    "acesso_2020_sp = porte(acesso_2020, 'Grande Porte', 'SP')"
   ]
  },
  {
   "cell_type": "markdown",
   "metadata": {},
   "source": [
    "# 2.3. Dataframe manipulation"
   ]
  },
  {
   "cell_type": "code",
   "execution_count": 160,
   "metadata": {},
   "outputs": [],
   "source": [
    "acesso = [acesso_2016_sp, acesso_2018_sp, acesso_2020_sp]\n",
    "acesso_sp = pd.concat(acesso)"
   ]
  },
  {
   "cell_type": "code",
   "execution_count": 9,
   "metadata": {},
   "outputs": [
    {
     "data": {
      "text/plain": [
       "Index(['Ano', 'Mês', 'Grupo Econômico', 'Empresa', 'CNPJ',\n",
       "       'Porte da Prestadora', 'UF', 'Município', 'Código IBGE Município',\n",
       "       'Faixa de Velocidade', 'Tecnologia', 'Meio de Acesso', 'Acessos'],\n",
       "      dtype='object')"
      ]
     },
     "execution_count": 9,
     "metadata": {},
     "output_type": "execute_result"
    }
   ],
   "source": [
    "acesso_sp.columns"
   ]
  },
  {
   "cell_type": "code",
   "execution_count": 161,
   "metadata": {},
   "outputs": [],
   "source": [
    "#Dropping the unnecessary columns\n",
    "drop_acesso = acesso_sp.drop(columns=['Grupo Econômico', 'CNPJ', 'UF', 'Porte da Prestadora', 'Código IBGE Município', 'Meio de Acesso'])"
   ]
  },
  {
   "cell_type": "code",
   "execution_count": 11,
   "metadata": {},
   "outputs": [
    {
     "data": {
      "text/plain": [
       "(672595, 7)"
      ]
     },
     "execution_count": 11,
     "metadata": {},
     "output_type": "execute_result"
    }
   ],
   "source": [
    "drop_acesso.shape"
   ]
  },
  {
   "cell_type": "code",
   "execution_count": 13,
   "metadata": {},
   "outputs": [
    {
     "name": "stdout",
     "output_type": "stream",
     "text": [
      "Number of duplicate rows:  3096\n"
     ]
    }
   ],
   "source": [
    "#Rows containing duplicate data\n",
    "duplicate_rows = drop_acesso[drop_acesso.duplicated()]\n",
    "print('Number of duplicate rows: ', len(duplicate_rows))"
   ]
  },
  {
   "cell_type": "code",
   "execution_count": 14,
   "metadata": {},
   "outputs": [
    {
     "data": {
      "text/html": [
       "<div>\n",
       "<style scoped>\n",
       "    .dataframe tbody tr th:only-of-type {\n",
       "        vertical-align: middle;\n",
       "    }\n",
       "\n",
       "    .dataframe tbody tr th {\n",
       "        vertical-align: top;\n",
       "    }\n",
       "\n",
       "    .dataframe thead th {\n",
       "        text-align: right;\n",
       "    }\n",
       "</style>\n",
       "<table border=\"1\" class=\"dataframe\">\n",
       "  <thead>\n",
       "    <tr style=\"text-align: right;\">\n",
       "      <th></th>\n",
       "      <th>Ano</th>\n",
       "      <th>Mês</th>\n",
       "      <th>Empresa</th>\n",
       "      <th>Município</th>\n",
       "      <th>Faixa de Velocidade</th>\n",
       "      <th>Tecnologia</th>\n",
       "      <th>Acessos</th>\n",
       "    </tr>\n",
       "  </thead>\n",
       "  <tbody>\n",
       "    <tr>\n",
       "      <th>24967</th>\n",
       "      <td>2016</td>\n",
       "      <td>12</td>\n",
       "      <td>VIVO</td>\n",
       "      <td>Santo Anastácio</td>\n",
       "      <td>0Kbps a 512Kbps</td>\n",
       "      <td>ATM</td>\n",
       "      <td>13</td>\n",
       "    </tr>\n",
       "    <tr>\n",
       "      <th>26161</th>\n",
       "      <td>2016</td>\n",
       "      <td>12</td>\n",
       "      <td>VIVO</td>\n",
       "      <td>São Caetano do Sul</td>\n",
       "      <td>512kbps a 2Mbps</td>\n",
       "      <td>Fibra</td>\n",
       "      <td>13</td>\n",
       "    </tr>\n",
       "    <tr>\n",
       "      <th>26162</th>\n",
       "      <td>2016</td>\n",
       "      <td>12</td>\n",
       "      <td>VIVO</td>\n",
       "      <td>Pacaembu</td>\n",
       "      <td>512kbps a 2Mbps</td>\n",
       "      <td>xDSL</td>\n",
       "      <td>617</td>\n",
       "    </tr>\n",
       "    <tr>\n",
       "      <th>26163</th>\n",
       "      <td>2016</td>\n",
       "      <td>12</td>\n",
       "      <td>VIVO</td>\n",
       "      <td>Campinas</td>\n",
       "      <td>12Mbps a 34Mbps</td>\n",
       "      <td>xDSL</td>\n",
       "      <td>19407</td>\n",
       "    </tr>\n",
       "    <tr>\n",
       "      <th>26164</th>\n",
       "      <td>2016</td>\n",
       "      <td>12</td>\n",
       "      <td>VIVO</td>\n",
       "      <td>Estiva Gerbi</td>\n",
       "      <td>512kbps a 2Mbps</td>\n",
       "      <td>ATM</td>\n",
       "      <td>4</td>\n",
       "    </tr>\n",
       "    <tr>\n",
       "      <th>...</th>\n",
       "      <td>...</td>\n",
       "      <td>...</td>\n",
       "      <td>...</td>\n",
       "      <td>...</td>\n",
       "      <td>...</td>\n",
       "      <td>...</td>\n",
       "      <td>...</td>\n",
       "    </tr>\n",
       "    <tr>\n",
       "      <th>3606829</th>\n",
       "      <td>2019</td>\n",
       "      <td>1</td>\n",
       "      <td>OI</td>\n",
       "      <td>Osasco</td>\n",
       "      <td>0Kbps a 512Kbps</td>\n",
       "      <td>FR</td>\n",
       "      <td>4</td>\n",
       "    </tr>\n",
       "    <tr>\n",
       "      <th>3606835</th>\n",
       "      <td>2019</td>\n",
       "      <td>1</td>\n",
       "      <td>OI</td>\n",
       "      <td>Barueri</td>\n",
       "      <td>0Kbps a 512Kbps</td>\n",
       "      <td>FR</td>\n",
       "      <td>6</td>\n",
       "    </tr>\n",
       "    <tr>\n",
       "      <th>3606840</th>\n",
       "      <td>2019</td>\n",
       "      <td>1</td>\n",
       "      <td>OI</td>\n",
       "      <td>Cotia</td>\n",
       "      <td>0Kbps a 512Kbps</td>\n",
       "      <td>FR</td>\n",
       "      <td>1</td>\n",
       "    </tr>\n",
       "    <tr>\n",
       "      <th>3606842</th>\n",
       "      <td>2019</td>\n",
       "      <td>1</td>\n",
       "      <td>OI</td>\n",
       "      <td>Guarulhos</td>\n",
       "      <td>512kbps a 2Mbps</td>\n",
       "      <td>FR</td>\n",
       "      <td>1</td>\n",
       "    </tr>\n",
       "    <tr>\n",
       "      <th>3606849</th>\n",
       "      <td>2019</td>\n",
       "      <td>1</td>\n",
       "      <td>OI</td>\n",
       "      <td>Ourinhos</td>\n",
       "      <td>512kbps a 2Mbps</td>\n",
       "      <td>VSAT</td>\n",
       "      <td>1</td>\n",
       "    </tr>\n",
       "  </tbody>\n",
       "</table>\n",
       "<p>669499 rows × 7 columns</p>\n",
       "</div>"
      ],
      "text/plain": [
       "          Ano  Mês Empresa           Município Faixa de Velocidade Tecnologia  \\\n",
       "24967    2016   12    VIVO     Santo Anastácio     0Kbps a 512Kbps        ATM   \n",
       "26161    2016   12    VIVO  São Caetano do Sul     512kbps a 2Mbps      Fibra   \n",
       "26162    2016   12    VIVO            Pacaembu     512kbps a 2Mbps       xDSL   \n",
       "26163    2016   12    VIVO            Campinas     12Mbps a 34Mbps       xDSL   \n",
       "26164    2016   12    VIVO        Estiva Gerbi     512kbps a 2Mbps        ATM   \n",
       "...       ...  ...     ...                 ...                 ...        ...   \n",
       "3606829  2019    1      OI              Osasco     0Kbps a 512Kbps         FR   \n",
       "3606835  2019    1      OI             Barueri     0Kbps a 512Kbps         FR   \n",
       "3606840  2019    1      OI               Cotia     0Kbps a 512Kbps         FR   \n",
       "3606842  2019    1      OI           Guarulhos     512kbps a 2Mbps         FR   \n",
       "3606849  2019    1      OI            Ourinhos     512kbps a 2Mbps       VSAT   \n",
       "\n",
       "         Acessos  \n",
       "24967         13  \n",
       "26161         13  \n",
       "26162        617  \n",
       "26163      19407  \n",
       "26164          4  \n",
       "...          ...  \n",
       "3606829        4  \n",
       "3606835        6  \n",
       "3606840        1  \n",
       "3606842        1  \n",
       "3606849        1  \n",
       "\n",
       "[669499 rows x 7 columns]"
      ]
     },
     "execution_count": 14,
     "metadata": {},
     "output_type": "execute_result"
    }
   ],
   "source": [
    "#drop duplicated columns\n",
    "drop_acesso.drop_duplicates()"
   ]
  },
  {
   "cell_type": "code",
   "execution_count": 15,
   "metadata": {},
   "outputs": [],
   "source": [
    "#sort by Ano and Mês\n",
    "drop_acesso = drop_acesso.sort_values(by=['Ano', 'Mês'])"
   ]
  },
  {
   "cell_type": "code",
   "execution_count": 16,
   "metadata": {},
   "outputs": [
    {
     "data": {
      "text/html": [
       "<div>\n",
       "<style scoped>\n",
       "    .dataframe tbody tr th:only-of-type {\n",
       "        vertical-align: middle;\n",
       "    }\n",
       "\n",
       "    .dataframe tbody tr th {\n",
       "        vertical-align: top;\n",
       "    }\n",
       "\n",
       "    .dataframe thead th {\n",
       "        text-align: right;\n",
       "    }\n",
       "</style>\n",
       "<table border=\"1\" class=\"dataframe\">\n",
       "  <thead>\n",
       "    <tr style=\"text-align: right;\">\n",
       "      <th></th>\n",
       "      <th>Ano</th>\n",
       "      <th>Mês</th>\n",
       "      <th>Empresa</th>\n",
       "      <th>Município</th>\n",
       "      <th>Faixa de Velocidade</th>\n",
       "      <th>Tecnologia</th>\n",
       "      <th>Acessos</th>\n",
       "    </tr>\n",
       "  </thead>\n",
       "  <tbody>\n",
       "    <tr>\n",
       "      <th>2371895</th>\n",
       "      <td>2015</td>\n",
       "      <td>1</td>\n",
       "      <td>VIVO</td>\n",
       "      <td>São Paulo</td>\n",
       "      <td>2Mbps a 12Mbps</td>\n",
       "      <td>ETHERNET</td>\n",
       "      <td>4</td>\n",
       "    </tr>\n",
       "    <tr>\n",
       "      <th>2371923</th>\n",
       "      <td>2015</td>\n",
       "      <td>1</td>\n",
       "      <td>OI</td>\n",
       "      <td>São João da Boa Vista</td>\n",
       "      <td>512kbps a 2Mbps</td>\n",
       "      <td>xDSL</td>\n",
       "      <td>1</td>\n",
       "    </tr>\n",
       "    <tr>\n",
       "      <th>2372137</th>\n",
       "      <td>2015</td>\n",
       "      <td>1</td>\n",
       "      <td>VIVO</td>\n",
       "      <td>São Paulo</td>\n",
       "      <td>&gt; 34Mbps</td>\n",
       "      <td>Fibra</td>\n",
       "      <td>152</td>\n",
       "    </tr>\n",
       "    <tr>\n",
       "      <th>2372212</th>\n",
       "      <td>2015</td>\n",
       "      <td>1</td>\n",
       "      <td>CLARO</td>\n",
       "      <td>Osasco</td>\n",
       "      <td>0Kbps a 512Kbps</td>\n",
       "      <td>Fibra</td>\n",
       "      <td>1</td>\n",
       "    </tr>\n",
       "    <tr>\n",
       "      <th>2374073</th>\n",
       "      <td>2015</td>\n",
       "      <td>1</td>\n",
       "      <td>CLARO</td>\n",
       "      <td>Cotia</td>\n",
       "      <td>512kbps a 2Mbps</td>\n",
       "      <td>Fibra</td>\n",
       "      <td>1</td>\n",
       "    </tr>\n",
       "    <tr>\n",
       "      <th>...</th>\n",
       "      <td>...</td>\n",
       "      <td>...</td>\n",
       "      <td>...</td>\n",
       "      <td>...</td>\n",
       "      <td>...</td>\n",
       "      <td>...</td>\n",
       "      <td>...</td>\n",
       "    </tr>\n",
       "    <tr>\n",
       "      <th>146587</th>\n",
       "      <td>2020</td>\n",
       "      <td>12</td>\n",
       "      <td>SKY/AT&amp;T</td>\n",
       "      <td>Guarujá</td>\n",
       "      <td>2Mbps a 12Mbps</td>\n",
       "      <td>LTE</td>\n",
       "      <td>362</td>\n",
       "    </tr>\n",
       "    <tr>\n",
       "      <th>146590</th>\n",
       "      <td>2020</td>\n",
       "      <td>12</td>\n",
       "      <td>SKY/AT&amp;T</td>\n",
       "      <td>Ibiúna</td>\n",
       "      <td>12Mbps a 34Mbps</td>\n",
       "      <td>LTE</td>\n",
       "      <td>5</td>\n",
       "    </tr>\n",
       "    <tr>\n",
       "      <th>146608</th>\n",
       "      <td>2020</td>\n",
       "      <td>12</td>\n",
       "      <td>SKY/AT&amp;T</td>\n",
       "      <td>Tietê</td>\n",
       "      <td>2Mbps a 12Mbps</td>\n",
       "      <td>LTE</td>\n",
       "      <td>26</td>\n",
       "    </tr>\n",
       "    <tr>\n",
       "      <th>146610</th>\n",
       "      <td>2020</td>\n",
       "      <td>12</td>\n",
       "      <td>SKY/AT&amp;T</td>\n",
       "      <td>Santos</td>\n",
       "      <td>2Mbps a 12Mbps</td>\n",
       "      <td>LTE</td>\n",
       "      <td>406</td>\n",
       "    </tr>\n",
       "    <tr>\n",
       "      <th>146635</th>\n",
       "      <td>2020</td>\n",
       "      <td>12</td>\n",
       "      <td>SKY/AT&amp;T</td>\n",
       "      <td>Ribeirão Pires</td>\n",
       "      <td>512kbps a 2Mbps</td>\n",
       "      <td>LTE</td>\n",
       "      <td>2</td>\n",
       "    </tr>\n",
       "  </tbody>\n",
       "</table>\n",
       "<p>672595 rows × 7 columns</p>\n",
       "</div>"
      ],
      "text/plain": [
       "          Ano  Mês   Empresa              Município Faixa de Velocidade  \\\n",
       "2371895  2015    1      VIVO              São Paulo      2Mbps a 12Mbps   \n",
       "2371923  2015    1        OI  São João da Boa Vista     512kbps a 2Mbps   \n",
       "2372137  2015    1      VIVO              São Paulo            > 34Mbps   \n",
       "2372212  2015    1     CLARO                 Osasco     0Kbps a 512Kbps   \n",
       "2374073  2015    1     CLARO                  Cotia     512kbps a 2Mbps   \n",
       "...       ...  ...       ...                    ...                 ...   \n",
       "146587   2020   12  SKY/AT&T                Guarujá      2Mbps a 12Mbps   \n",
       "146590   2020   12  SKY/AT&T                 Ibiúna     12Mbps a 34Mbps   \n",
       "146608   2020   12  SKY/AT&T                  Tietê      2Mbps a 12Mbps   \n",
       "146610   2020   12  SKY/AT&T                 Santos      2Mbps a 12Mbps   \n",
       "146635   2020   12  SKY/AT&T         Ribeirão Pires     512kbps a 2Mbps   \n",
       "\n",
       "        Tecnologia  Acessos  \n",
       "2371895   ETHERNET        4  \n",
       "2371923       xDSL        1  \n",
       "2372137      Fibra      152  \n",
       "2372212      Fibra        1  \n",
       "2374073      Fibra        1  \n",
       "...            ...      ...  \n",
       "146587         LTE      362  \n",
       "146590         LTE        5  \n",
       "146608         LTE       26  \n",
       "146610         LTE      406  \n",
       "146635         LTE        2  \n",
       "\n",
       "[672595 rows x 7 columns]"
      ]
     },
     "execution_count": 16,
     "metadata": {},
     "output_type": "execute_result"
    }
   ],
   "source": [
    "drop_acesso"
   ]
  },
  {
   "cell_type": "markdown",
   "metadata": {},
   "source": [
    "# select only the 6 metropolitan regions of SP"
   ]
  },
  {
   "cell_type": "code",
   "execution_count": 17,
   "metadata": {},
   "outputs": [],
   "source": [
    "drop_acesso = drop_acesso.drop(drop_acesso[(drop_acesso['Município'] != 'São Paulo') & (drop_acesso['Município'] != 'Campinas') & (drop_acesso['Município'] != 'São José dos Campos') & (drop_acesso['Município'] != 'Sorocaba') & (drop_acesso['Município'] != 'Santos') & (drop_acesso['Município'] != 'Ribeirão Preto')].index)"
   ]
  },
  {
   "cell_type": "code",
   "execution_count": 18,
   "metadata": {},
   "outputs": [
    {
     "data": {
      "text/plain": [
       "array(['São Paulo', 'Santos', 'Campinas', 'São José dos Campos',\n",
       "       'Ribeirão Preto', 'Sorocaba'], dtype=object)"
      ]
     },
     "execution_count": 18,
     "metadata": {},
     "output_type": "execute_result"
    }
   ],
   "source": [
    "drop_acesso['Município'].unique()"
   ]
  },
  {
   "cell_type": "code",
   "execution_count": 19,
   "metadata": {},
   "outputs": [
    {
     "data": {
      "text/html": [
       "<div>\n",
       "<style scoped>\n",
       "    .dataframe tbody tr th:only-of-type {\n",
       "        vertical-align: middle;\n",
       "    }\n",
       "\n",
       "    .dataframe tbody tr th {\n",
       "        vertical-align: top;\n",
       "    }\n",
       "\n",
       "    .dataframe thead th {\n",
       "        text-align: right;\n",
       "    }\n",
       "</style>\n",
       "<table border=\"1\" class=\"dataframe\">\n",
       "  <thead>\n",
       "    <tr style=\"text-align: right;\">\n",
       "      <th></th>\n",
       "      <th>Ano</th>\n",
       "      <th>Mês</th>\n",
       "      <th>Empresa</th>\n",
       "      <th>Município</th>\n",
       "      <th>Faixa de Velocidade</th>\n",
       "      <th>Tecnologia</th>\n",
       "      <th>Acessos</th>\n",
       "    </tr>\n",
       "  </thead>\n",
       "  <tbody>\n",
       "    <tr>\n",
       "      <th>98485</th>\n",
       "      <td>2020</td>\n",
       "      <td>12</td>\n",
       "      <td>CLARO</td>\n",
       "      <td>São Paulo</td>\n",
       "      <td>&gt; 34Mbps</td>\n",
       "      <td>HFC</td>\n",
       "      <td>1224902</td>\n",
       "    </tr>\n",
       "  </tbody>\n",
       "</table>\n",
       "</div>"
      ],
      "text/plain": [
       "        Ano  Mês Empresa  Município Faixa de Velocidade Tecnologia  Acessos\n",
       "98485  2020   12   CLARO  São Paulo            > 34Mbps        HFC  1224902"
      ]
     },
     "execution_count": 19,
     "metadata": {},
     "output_type": "execute_result"
    }
   ],
   "source": [
    "#Find which company has the most acessos and identify the tecnologia linked\n",
    "drop_acesso[drop_acesso['Acessos'] == drop_acesso['Acessos'].max()]"
   ]
  },
  {
   "cell_type": "code",
   "execution_count": 20,
   "metadata": {},
   "outputs": [
    {
     "data": {
      "text/html": [
       "<div>\n",
       "<style scoped>\n",
       "    .dataframe tbody tr th:only-of-type {\n",
       "        vertical-align: middle;\n",
       "    }\n",
       "\n",
       "    .dataframe tbody tr th {\n",
       "        vertical-align: top;\n",
       "    }\n",
       "\n",
       "    .dataframe thead th {\n",
       "        text-align: right;\n",
       "    }\n",
       "</style>\n",
       "<table border=\"1\" class=\"dataframe\">\n",
       "  <thead>\n",
       "    <tr style=\"text-align: right;\">\n",
       "      <th></th>\n",
       "      <th>Ano</th>\n",
       "      <th>Mês</th>\n",
       "      <th>Empresa</th>\n",
       "      <th>Município</th>\n",
       "      <th>Faixa de Velocidade</th>\n",
       "      <th>Tecnologia</th>\n",
       "      <th>Acessos</th>\n",
       "    </tr>\n",
       "  </thead>\n",
       "  <tbody>\n",
       "    <tr>\n",
       "      <th>2374075</th>\n",
       "      <td>2015</td>\n",
       "      <td>1</td>\n",
       "      <td>CLARO</td>\n",
       "      <td>Santos</td>\n",
       "      <td>512kbps a 2Mbps</td>\n",
       "      <td>xDSL</td>\n",
       "      <td>1</td>\n",
       "    </tr>\n",
       "    <tr>\n",
       "      <th>2374080</th>\n",
       "      <td>2015</td>\n",
       "      <td>1</td>\n",
       "      <td>CLARO</td>\n",
       "      <td>Campinas</td>\n",
       "      <td>0Kbps a 512Kbps</td>\n",
       "      <td>xDSL</td>\n",
       "      <td>1</td>\n",
       "    </tr>\n",
       "    <tr>\n",
       "      <th>2374084</th>\n",
       "      <td>2015</td>\n",
       "      <td>1</td>\n",
       "      <td>CLARO</td>\n",
       "      <td>Santos</td>\n",
       "      <td>0Kbps a 512Kbps</td>\n",
       "      <td>Fibra</td>\n",
       "      <td>1</td>\n",
       "    </tr>\n",
       "    <tr>\n",
       "      <th>2374160</th>\n",
       "      <td>2015</td>\n",
       "      <td>1</td>\n",
       "      <td>CLARO</td>\n",
       "      <td>São José dos Campos</td>\n",
       "      <td>0Kbps a 512Kbps</td>\n",
       "      <td>xDSL</td>\n",
       "      <td>1</td>\n",
       "    </tr>\n",
       "    <tr>\n",
       "      <th>2374170</th>\n",
       "      <td>2015</td>\n",
       "      <td>1</td>\n",
       "      <td>CLARO</td>\n",
       "      <td>São José dos Campos</td>\n",
       "      <td>512kbps a 2Mbps</td>\n",
       "      <td>Fibra</td>\n",
       "      <td>1</td>\n",
       "    </tr>\n",
       "    <tr>\n",
       "      <th>...</th>\n",
       "      <td>...</td>\n",
       "      <td>...</td>\n",
       "      <td>...</td>\n",
       "      <td>...</td>\n",
       "      <td>...</td>\n",
       "      <td>...</td>\n",
       "      <td>...</td>\n",
       "    </tr>\n",
       "    <tr>\n",
       "      <th>94076</th>\n",
       "      <td>2020</td>\n",
       "      <td>12</td>\n",
       "      <td>CLARO</td>\n",
       "      <td>Santos</td>\n",
       "      <td>&gt; 34Mbps</td>\n",
       "      <td>Wi-Fi</td>\n",
       "      <td>1</td>\n",
       "    </tr>\n",
       "    <tr>\n",
       "      <th>94500</th>\n",
       "      <td>2020</td>\n",
       "      <td>12</td>\n",
       "      <td>CLARO</td>\n",
       "      <td>Sorocaba</td>\n",
       "      <td>0Kbps a 512Kbps</td>\n",
       "      <td>Wi-Fi</td>\n",
       "      <td>1</td>\n",
       "    </tr>\n",
       "    <tr>\n",
       "      <th>97817</th>\n",
       "      <td>2020</td>\n",
       "      <td>12</td>\n",
       "      <td>CLARO</td>\n",
       "      <td>Campinas</td>\n",
       "      <td>2Mbps a 12Mbps</td>\n",
       "      <td>Wi-Fi</td>\n",
       "      <td>1</td>\n",
       "    </tr>\n",
       "    <tr>\n",
       "      <th>99830</th>\n",
       "      <td>2020</td>\n",
       "      <td>12</td>\n",
       "      <td>CLARO</td>\n",
       "      <td>São José dos Campos</td>\n",
       "      <td>2Mbps a 12Mbps</td>\n",
       "      <td>xDSL</td>\n",
       "      <td>1</td>\n",
       "    </tr>\n",
       "    <tr>\n",
       "      <th>146323</th>\n",
       "      <td>2020</td>\n",
       "      <td>12</td>\n",
       "      <td>SKY/AT&amp;T</td>\n",
       "      <td>São Paulo</td>\n",
       "      <td>512kbps a 2Mbps</td>\n",
       "      <td>LTE</td>\n",
       "      <td>1</td>\n",
       "    </tr>\n",
       "  </tbody>\n",
       "</table>\n",
       "<p>3488 rows × 7 columns</p>\n",
       "</div>"
      ],
      "text/plain": [
       "          Ano  Mês   Empresa            Município Faixa de Velocidade  \\\n",
       "2374075  2015    1     CLARO               Santos     512kbps a 2Mbps   \n",
       "2374080  2015    1     CLARO             Campinas     0Kbps a 512Kbps   \n",
       "2374084  2015    1     CLARO               Santos     0Kbps a 512Kbps   \n",
       "2374160  2015    1     CLARO  São José dos Campos     0Kbps a 512Kbps   \n",
       "2374170  2015    1     CLARO  São José dos Campos     512kbps a 2Mbps   \n",
       "...       ...  ...       ...                  ...                 ...   \n",
       "94076    2020   12     CLARO               Santos            > 34Mbps   \n",
       "94500    2020   12     CLARO             Sorocaba     0Kbps a 512Kbps   \n",
       "97817    2020   12     CLARO             Campinas      2Mbps a 12Mbps   \n",
       "99830    2020   12     CLARO  São José dos Campos      2Mbps a 12Mbps   \n",
       "146323   2020   12  SKY/AT&T            São Paulo     512kbps a 2Mbps   \n",
       "\n",
       "        Tecnologia  Acessos  \n",
       "2374075       xDSL        1  \n",
       "2374080       xDSL        1  \n",
       "2374084      Fibra        1  \n",
       "2374160       xDSL        1  \n",
       "2374170      Fibra        1  \n",
       "...            ...      ...  \n",
       "94076        Wi-Fi        1  \n",
       "94500        Wi-Fi        1  \n",
       "97817        Wi-Fi        1  \n",
       "99830         xDSL        1  \n",
       "146323         LTE        1  \n",
       "\n",
       "[3488 rows x 7 columns]"
      ]
     },
     "execution_count": 20,
     "metadata": {},
     "output_type": "execute_result"
    }
   ],
   "source": [
    "#Find which company has the least acessos and identify the tecnologia linked\n",
    "drop_acesso[drop_acesso['Acessos'] == drop_acesso['Acessos'].min()]"
   ]
  },
  {
   "cell_type": "code",
   "execution_count": 21,
   "metadata": {},
   "outputs": [
    {
     "data": {
      "text/plain": [
       "array(['2Mbps a 12Mbps', '> 34Mbps', '512kbps a 2Mbps', '0Kbps a 512Kbps',\n",
       "       '12Mbps a 34Mbps'], dtype=object)"
      ]
     },
     "execution_count": 21,
     "metadata": {},
     "output_type": "execute_result"
    }
   ],
   "source": [
    "drop_acesso['Faixa de Velocidade'].unique()"
   ]
  },
  {
   "cell_type": "code",
   "execution_count": 116,
   "metadata": {},
   "outputs": [
    {
     "data": {
      "text/html": [
       "<div>\n",
       "<style scoped>\n",
       "    .dataframe tbody tr th:only-of-type {\n",
       "        vertical-align: middle;\n",
       "    }\n",
       "\n",
       "    .dataframe tbody tr th {\n",
       "        vertical-align: top;\n",
       "    }\n",
       "\n",
       "    .dataframe thead th {\n",
       "        text-align: right;\n",
       "    }\n",
       "</style>\n",
       "<table border=\"1\" class=\"dataframe\">\n",
       "  <thead>\n",
       "    <tr style=\"text-align: right;\">\n",
       "      <th></th>\n",
       "      <th>Ano</th>\n",
       "      <th>Mês</th>\n",
       "      <th>Empresa</th>\n",
       "      <th>Município</th>\n",
       "      <th>Tecnologia</th>\n",
       "      <th>Acessos</th>\n",
       "      <th>Faixa de Velocidade Atualizada</th>\n",
       "    </tr>\n",
       "  </thead>\n",
       "  <tbody>\n",
       "    <tr>\n",
       "      <th>1083</th>\n",
       "      <td>2010</td>\n",
       "      <td>12</td>\n",
       "      <td>VIVO</td>\n",
       "      <td>São Paulo</td>\n",
       "      <td>Outra</td>\n",
       "      <td>78</td>\n",
       "      <td>&gt; 34Mbps</td>\n",
       "    </tr>\n",
       "    <tr>\n",
       "      <th>1115</th>\n",
       "      <td>2010</td>\n",
       "      <td>12</td>\n",
       "      <td>VIVO</td>\n",
       "      <td>Santos</td>\n",
       "      <td>Outra</td>\n",
       "      <td>35</td>\n",
       "      <td>&gt; 34Mbps</td>\n",
       "    </tr>\n",
       "    <tr>\n",
       "      <th>2672</th>\n",
       "      <td>2010</td>\n",
       "      <td>12</td>\n",
       "      <td>VIVO</td>\n",
       "      <td>Santos</td>\n",
       "      <td>Híbrido</td>\n",
       "      <td>1361</td>\n",
       "      <td>0Kbps a 512Kbps</td>\n",
       "    </tr>\n",
       "    <tr>\n",
       "      <th>2685</th>\n",
       "      <td>2010</td>\n",
       "      <td>12</td>\n",
       "      <td>VIVO</td>\n",
       "      <td>São Paulo</td>\n",
       "      <td>Híbrido</td>\n",
       "      <td>184</td>\n",
       "      <td>&gt; 34Mbps</td>\n",
       "    </tr>\n",
       "    <tr>\n",
       "      <th>2694</th>\n",
       "      <td>2010</td>\n",
       "      <td>12</td>\n",
       "      <td>VIVO</td>\n",
       "      <td>Sorocaba</td>\n",
       "      <td>Híbrido</td>\n",
       "      <td>421</td>\n",
       "      <td>512kbps a 2Mbps</td>\n",
       "    </tr>\n",
       "    <tr>\n",
       "      <th>...</th>\n",
       "      <td>...</td>\n",
       "      <td>...</td>\n",
       "      <td>...</td>\n",
       "      <td>...</td>\n",
       "      <td>...</td>\n",
       "      <td>...</td>\n",
       "      <td>...</td>\n",
       "    </tr>\n",
       "    <tr>\n",
       "      <th>3606707</th>\n",
       "      <td>2019</td>\n",
       "      <td>1</td>\n",
       "      <td>CLARO</td>\n",
       "      <td>São Paulo</td>\n",
       "      <td>xDSL</td>\n",
       "      <td>2</td>\n",
       "      <td>0Kbps a 512Kbps</td>\n",
       "    </tr>\n",
       "    <tr>\n",
       "      <th>3606709</th>\n",
       "      <td>2019</td>\n",
       "      <td>1</td>\n",
       "      <td>CLARO</td>\n",
       "      <td>Santos</td>\n",
       "      <td>xDSL</td>\n",
       "      <td>1</td>\n",
       "      <td>512kbps a 2Mbps</td>\n",
       "    </tr>\n",
       "    <tr>\n",
       "      <th>3606727</th>\n",
       "      <td>2019</td>\n",
       "      <td>1</td>\n",
       "      <td>CLARO</td>\n",
       "      <td>São Paulo</td>\n",
       "      <td>Fibra</td>\n",
       "      <td>357</td>\n",
       "      <td>0Kbps a 512Kbps</td>\n",
       "    </tr>\n",
       "    <tr>\n",
       "      <th>3606732</th>\n",
       "      <td>2019</td>\n",
       "      <td>1</td>\n",
       "      <td>CLARO</td>\n",
       "      <td>São Paulo</td>\n",
       "      <td>Fibra</td>\n",
       "      <td>957</td>\n",
       "      <td>512kbps a 2Mbps</td>\n",
       "    </tr>\n",
       "    <tr>\n",
       "      <th>3606841</th>\n",
       "      <td>2019</td>\n",
       "      <td>1</td>\n",
       "      <td>OI</td>\n",
       "      <td>São José dos Campos</td>\n",
       "      <td>FR</td>\n",
       "      <td>1</td>\n",
       "      <td>0Kbps a 512Kbps</td>\n",
       "    </tr>\n",
       "  </tbody>\n",
       "</table>\n",
       "<p>40877 rows × 7 columns</p>\n",
       "</div>"
      ],
      "text/plain": [
       "          Ano  Mês Empresa            Município Tecnologia  Acessos  \\\n",
       "1083     2010   12    VIVO            São Paulo      Outra       78   \n",
       "1115     2010   12    VIVO               Santos      Outra       35   \n",
       "2672     2010   12    VIVO               Santos    Híbrido     1361   \n",
       "2685     2010   12    VIVO            São Paulo    Híbrido      184   \n",
       "2694     2010   12    VIVO             Sorocaba    Híbrido      421   \n",
       "...       ...  ...     ...                  ...        ...      ...   \n",
       "3606707  2019    1   CLARO            São Paulo       xDSL        2   \n",
       "3606709  2019    1   CLARO               Santos       xDSL        1   \n",
       "3606727  2019    1   CLARO            São Paulo      Fibra      357   \n",
       "3606732  2019    1   CLARO            São Paulo      Fibra      957   \n",
       "3606841  2019    1      OI  São José dos Campos         FR        1   \n",
       "\n",
       "        Faixa de Velocidade Atualizada  \n",
       "1083                          > 34Mbps  \n",
       "1115                          > 34Mbps  \n",
       "2672                   0Kbps a 512Kbps  \n",
       "2685                          > 34Mbps  \n",
       "2694                   512kbps a 2Mbps  \n",
       "...                                ...  \n",
       "3606707                0Kbps a 512Kbps  \n",
       "3606709                512kbps a 2Mbps  \n",
       "3606727                0Kbps a 512Kbps  \n",
       "3606732                512kbps a 2Mbps  \n",
       "3606841                0Kbps a 512Kbps  \n",
       "\n",
       "[40877 rows x 7 columns]"
      ]
     },
     "execution_count": 116,
     "metadata": {},
     "output_type": "execute_result"
    }
   ],
   "source": [
    "drop_acesso"
   ]
  },
  {
   "cell_type": "markdown",
   "metadata": {},
   "source": [
    "# 2.4. Discrete Variable Analysis\n",
    "\n",
    "Let's start first the discrete column \"Acessos\". The columns \"Ano\" and \"Month\" will not be investigated."
   ]
  },
  {
   "cell_type": "code",
   "execution_count": 22,
   "metadata": {},
   "outputs": [],
   "source": [
    "#define a function that will find outliers for any integer column and return a array.\n",
    "\n",
    "def findoutliers(column):\n",
    "    outliers = []\n",
    "    Q1 = column.quantile(.25)\n",
    "    Q3 = column.quantile(.75)\n",
    "    IQR = Q3 - Q1\n",
    "    lower_limit = Q1 - (1.5 * IQR)\n",
    "    upper_limit = Q3 + (1.5 * IQR)\n",
    "    for out1 in column:\n",
    "        if out1 > upper_limit or out1 < lower_limit:\n",
    "            outliers.append(out1)\n",
    "    return np.array(outliers)\n"
   ]
  },
  {
   "cell_type": "code",
   "execution_count": 23,
   "metadata": {},
   "outputs": [],
   "source": [
    "#Data visualization\n",
    "#define a function to display the distribution of the data and quantitative parameters (mean, count of outliers, Missing values, etc.)\n",
    "\n",
    "\n",
    "def plotchart(column):\n",
    "    fig, ax1 = plt.subplots(1,1,figsize=(12,8))\n",
    "    ax1 = sns.boxplot(x = column)\n",
    "    plt.title('Distribution of internet access over 2015-2020')\n",
    "    print('Count of outliers ', len(findoutliers(column)))\n",
    "    print('Quantitative data ', format(column.describe()))\n",
    "    print('Missing values ', format(column.isnull().sum()))\n",
    "    print('% of Missing values ', format(round(100*(column.isnull().sum()/len(column)),2)))\n"
   ]
  },
  {
   "cell_type": "code",
   "execution_count": 24,
   "metadata": {},
   "outputs": [
    {
     "name": "stdout",
     "output_type": "stream",
     "text": [
      "Count of outliers  5021\n",
      "Quantitative data  count    2.728500e+04\n",
      "mean     1.006305e+04\n",
      "std      6.140667e+04\n",
      "min      1.000000e+00\n",
      "25%      5.000000e+00\n",
      "50%      4.500000e+01\n",
      "75%      4.640000e+02\n",
      "max      1.224902e+06\n",
      "Name: Acessos, dtype: float64\n",
      "Missing values  0\n",
      "% of Missing values  0.0\n"
     ]
    },
    {
     "data": {
      "image/png": "[encoded data removed]",
      "text/plain": [
       "<Figure size 864x576 with 1 Axes>"
      ]
     },
     "metadata": {
      "needs_background": "light"
     },
     "output_type": "display_data"
    }
   ],
   "source": [
    "boxplot_Acessos = plotchart(drop_acesso['Acessos'])\n",
    "boxplot_Acessos"
   ]
  },
  {
   "cell_type": "markdown",
   "metadata": {},
   "source": [
    "# 2.5. Categorical Variables"
   ]
  },
  {
   "cell_type": "markdown",
   "metadata": {},
   "source": [
    "# 2.5.1. Univariate analysis\n",
    "\n",
    "First let's start with an univariate analysis of each categorical analysis\n",
    "\n",
    "Below I define the following function:\n",
    "\n",
    "1. catvarial - prints the frequency of the categorical column and the histogram of the categorial column"
   ]
  },
  {
   "cell_type": "code",
   "execution_count": 25,
   "metadata": {},
   "outputs": [],
   "source": [
    "#define a function to analyze the categorical column\n",
    "\n",
    "#catvarial function prints the frequency of the categorical column\n",
    "def catvarial(column):\n",
    "    print('Quantitative data ')\n",
    "    print(format(column.value_counts()))\n",
    "    fig, ax = plt.subplots(1,1,figsize=(12,8))\n",
    "    ax = sns.histplot(x = column)\n",
    "    \n",
    "    "
   ]
  },
  {
   "cell_type": "code",
   "execution_count": 26,
   "metadata": {},
   "outputs": [
    {
     "name": "stdout",
     "output_type": "stream",
     "text": [
      "Quantitative data \n",
      "CLARO       10876\n",
      "OI           8139\n",
      "VIVO         5566\n",
      "TIM          2393\n",
      "SKY/AT&T      311\n",
      "Name: Empresa, dtype: int64\n"
     ]
    },
    {
     "data": {
      "image/png": "[encoded data removed]",
      "text/plain": [
       "<Figure size 864x576 with 1 Axes>"
      ]
     },
     "metadata": {
      "needs_background": "light"
     },
     "output_type": "display_data"
    }
   ],
   "source": [
    "cat_empr = catvarial(drop_acesso['Empresa'])"
   ]
  },
  {
   "cell_type": "code",
   "execution_count": 27,
   "metadata": {},
   "outputs": [
    {
     "name": "stdout",
     "output_type": "stream",
     "text": [
      "Quantitative data \n",
      "São Paulo              8445\n",
      "Campinas               4598\n",
      "Ribeirão Preto         3725\n",
      "Santos                 3658\n",
      "São José dos Campos    3604\n",
      "Sorocaba               3255\n",
      "Name: Município, dtype: int64\n"
     ]
    },
    {
     "data": {
      "image/png": "[encoded data removed]",
      "text/plain": [
       "<Figure size 864x576 with 1 Axes>"
      ]
     },
     "metadata": {
      "needs_background": "light"
     },
     "output_type": "display_data"
    }
   ],
   "source": [
    "cat_muni = catvarial(drop_acesso['Município'])"
   ]
  },
  {
   "cell_type": "code",
   "execution_count": 28,
   "metadata": {},
   "outputs": [
    {
     "name": "stdout",
     "output_type": "stream",
     "text": [
      "Quantitative data \n",
      "512kbps a 2Mbps    7442\n",
      "0Kbps a 512Kbps    6314\n",
      "2Mbps a 12Mbps     4945\n",
      "12Mbps a 34Mbps    4336\n",
      "> 34Mbps           4248\n",
      "Name: Faixa de Velocidade, dtype: int64\n"
     ]
    },
    {
     "data": {
      "image/png": "[encoded data removed]",
      "text/plain": [
       "<Figure size 864x576 with 1 Axes>"
      ]
     },
     "metadata": {
      "needs_background": "light"
     },
     "output_type": "display_data"
    }
   ],
   "source": [
    "#call catvarial on Internet speed\n",
    "cat_faixa_velocidade = catvarial(drop_acesso['Faixa de Velocidade'])"
   ]
  },
  {
   "cell_type": "code",
   "execution_count": 29,
   "metadata": {},
   "outputs": [
    {
     "name": "stdout",
     "output_type": "stream",
     "text": [
      "Quantitative data \n",
      "Fibra          7337\n",
      "xDSL           5081\n",
      "FWA            2752\n",
      "HFC            2502\n",
      "ETHERNET       2352\n",
      "ATM            2238\n",
      "VSAT           1661\n",
      "Cable Modem    1284\n",
      "FR              687\n",
      "Wi-Fi           670\n",
      "WIMAX           359\n",
      "LTE             311\n",
      "PLC              51\n",
      "Name: Tecnologia, dtype: int64\n"
     ]
    },
    {
     "data": {
      "image/png": "[encoded data removed]",
      "text/plain": [
       "<Figure size 864x576 with 1 Axes>"
      ]
     },
     "metadata": {
      "needs_background": "light"
     },
     "output_type": "display_data"
    }
   ],
   "source": [
    "#call catvarial on internet technology\n",
    "cat_tech = catvarial(drop_acesso['Tecnologia'])"
   ]
  },
  {
   "cell_type": "markdown",
   "metadata": {},
   "source": [
    "# 2.5.2. Multivariate analysis\n",
    "\n",
    "Let's establish the following relationship among all variables:\n",
    "\n",
    "First let's start with \"Acesso\" column\n",
    "\n",
    "1. Number of access and Brazilian states. \n",
    "2. Number of access and Internet speed range\n",
    "3. Number of access and Technology"
   ]
  },
  {
   "cell_type": "code",
   "execution_count": 30,
   "metadata": {},
   "outputs": [],
   "source": [
    "#define a function to display internet acess against other parameters\n",
    "def multivarial(column):\n",
    "    Access_multi = drop_acesso['Acessos'].groupby(column).sum().sort_values(ascending = True)\n",
    "    f, ax = plt.subplots(1, 1, figsize=(15, 8))\n",
    "    ax = sns.barplot(x = Access_multi.index, y = Access_multi)\n",
    "    plt.title('Distribution of internet access over 2015-2020')"
   ]
  },
  {
   "cell_type": "code",
   "execution_count": 31,
   "metadata": {},
   "outputs": [
    {
     "data": {
      "image/png": "[encoded data removed]",
      "text/plain": [
       "<Figure size 1080x576 with 1 Axes>"
      ]
     },
     "metadata": {
      "needs_background": "light"
     },
     "output_type": "display_data"
    }
   ],
   "source": [
    "Access_per_empresa = multivarial(drop_acesso['Empresa'])"
   ]
  },
  {
   "cell_type": "code",
   "execution_count": 32,
   "metadata": {},
   "outputs": [
    {
     "data": {
      "image/png": "[encoded data removed]",
      "text/plain": [
       "<Figure size 1080x576 with 1 Axes>"
      ]
     },
     "metadata": {
      "needs_background": "light"
     },
     "output_type": "display_data"
    }
   ],
   "source": [
    "Access_per_municipio = multivarial(drop_acesso['Município'])"
   ]
  },
  {
   "cell_type": "code",
   "execution_count": 33,
   "metadata": {},
   "outputs": [
    {
     "data": {
      "image/png": "[encoded data removed]",
      "text/plain": [
       "<Figure size 1080x576 with 1 Axes>"
      ]
     },
     "metadata": {
      "needs_background": "light"
     },
     "output_type": "display_data"
    }
   ],
   "source": [
    "Access_per_faixa = multivarial(drop_acesso['Faixa de Velocidade'])"
   ]
  },
  {
   "cell_type": "code",
   "execution_count": 34,
   "metadata": {},
   "outputs": [
    {
     "data": {
      "image/png": "[encoded data removed]",
      "text/plain": [
       "<Figure size 1080x576 with 1 Axes>"
      ]
     },
     "metadata": {
      "needs_background": "light"
     },
     "output_type": "display_data"
    }
   ],
   "source": [
    "Access_per_tech = multivarial(drop_acesso['Tecnologia'])"
   ]
  },
  {
   "cell_type": "markdown",
   "metadata": {},
   "source": [
    "Now let's perform the multivariate analysis on the categorical columns only. "
   ]
  },
  {
   "cell_type": "code",
   "execution_count": 35,
   "metadata": {},
   "outputs": [],
   "source": [
    "def multicat(colum1, colum2):\n",
    "    f, ax = plt.subplots(1, 1, figsize=(15, 8))\n",
    "    ax = sns.countplot(x = colum1 , hue = colum2, data = drop_acesso)"
   ]
  },
  {
   "cell_type": "code",
   "execution_count": 36,
   "metadata": {},
   "outputs": [
    {
     "data": {
      "image/png": "[encoded data removed]",
      "text/plain": [
       "<Figure size 1080x576 with 1 Axes>"
      ]
     },
     "metadata": {
      "needs_background": "light"
     },
     "output_type": "display_data"
    }
   ],
   "source": [
    "muni_empr = multicat('Município', 'Empresa')"
   ]
  },
  {
   "cell_type": "code",
   "execution_count": 37,
   "metadata": {},
   "outputs": [
    {
     "data": {
      "image/png": "[encoded data removed]",
      "text/plain": [
       "<Figure size 1080x576 with 1 Axes>"
      ]
     },
     "metadata": {
      "needs_background": "light"
     },
     "output_type": "display_data"
    }
   ],
   "source": [
    "empr_tech = multicat('Empresa', 'Tecnologia')"
   ]
  },
  {
   "cell_type": "code",
   "execution_count": 38,
   "metadata": {},
   "outputs": [
    {
     "data": {
      "image/png": "[encoded data removed]",
      "text/plain": [
       "<Figure size 1080x576 with 1 Axes>"
      ]
     },
     "metadata": {
      "needs_background": "light"
     },
     "output_type": "display_data"
    }
   ],
   "source": [
    "empr_faixa = multicat('Empresa', 'Faixa de Velocidade')"
   ]
  },
  {
   "cell_type": "code",
   "execution_count": 39,
   "metadata": {},
   "outputs": [
    {
     "data": {
      "image/png": "[encoded data removed]",
      "text/plain": [
       "<Figure size 1080x576 with 1 Axes>"
      ]
     },
     "metadata": {
      "needs_background": "light"
     },
     "output_type": "display_data"
    }
   ],
   "source": [
    "muni_techn = multicat('Município', 'Tecnologia')"
   ]
  },
  {
   "cell_type": "code",
   "execution_count": 40,
   "metadata": {},
   "outputs": [
    {
     "data": {
      "image/png": "[encoded data removed]",
      "text/plain": [
       "<Figure size 1080x576 with 1 Axes>"
      ]
     },
     "metadata": {
      "needs_background": "light"
     },
     "output_type": "display_data"
    }
   ],
   "source": [
    "muni_faixa = multicat('Município', 'Faixa de Velocidade')"
   ]
  },
  {
   "cell_type": "code",
   "execution_count": 41,
   "metadata": {},
   "outputs": [
    {
     "data": {
      "image/png": "[encoded data removed]",
      "text/plain": [
       "<Figure size 1080x576 with 1 Axes>"
      ]
     },
     "metadata": {
      "needs_background": "light"
     },
     "output_type": "display_data"
    }
   ],
   "source": [
    "faixa_tecnh = multicat('Faixa de Velocidade', 'Tecnologia')"
   ]
  },
  {
   "cell_type": "markdown",
   "metadata": {},
   "source": [
    "# 3. Hypothesis Testing"
   ]
  },
  {
   "cell_type": "markdown",
   "metadata": {},
   "source": [
    "2 Sample T-test \n",
    "\n",
    "Does the access to Internet changes from one city to another ?\n",
    "\n",
    "H0: The access to internet in São Paulo and in Ribeirão Preto is the same\n",
    "\n",
    "H1: The access to internet in São Paulo and in Ribeirão Preto is not the same"
   ]
  },
  {
   "cell_type": "code",
   "execution_count": 42,
   "metadata": {},
   "outputs": [
    {
     "name": "stdout",
     "output_type": "stream",
     "text": [
      "Rejecting Null Hypothesis. That means the access to internet in São Paulo and in Ribeirão Preto is not the same\n"
     ]
    }
   ],
   "source": [
    "x = np.array(drop_acesso[drop_acesso.Município == 'São Paulo'].Acessos) \n",
    "y = np.array(drop_acesso[drop_acesso.Município == 'Ribeirão Preto'].Acessos)\n",
    "t, p_value  = stats.ttest_ind(x,y, axis = 0) \n",
    "if p_value < 0.05:  # Setting our significance level at 5%\n",
    "    print('Rejecting Null Hypothesis. That means the access to internet in São Paulo and in Ribeirão Preto is not the same')\n",
    "else:\n",
    "    print('Fail to Reject Null Hypothesis. That means the access to internet in São Paulo and in Ribeirão Preto is the same')"
   ]
  },
  {
   "cell_type": "markdown",
   "metadata": {},
   "source": [
    "2 Sample T-test \n",
    "\n",
    "Does the access to Internet changes from one internet provider to another ?\n",
    "\n",
    "H0: The access to internet with CLARO and OI is the same\n",
    "\n",
    "H1: The access to internet with CLARO and OI is not the same"
   ]
  },
  {
   "cell_type": "code",
   "execution_count": 43,
   "metadata": {},
   "outputs": [
    {
     "name": "stdout",
     "output_type": "stream",
     "text": [
      "Rejecting Null Hypothesis. That means that the access to internet with CLARO and OI is not the same\n"
     ]
    }
   ],
   "source": [
    "x = np.array(drop_acesso[drop_acesso.Empresa == 'CLARO'].Acessos) \n",
    "y = np.array(drop_acesso[drop_acesso.Empresa == 'OI'].Acessos)\n",
    "t, p_value_2  = stats.ttest_ind(x,y, axis = 0) \n",
    "if p_value_2 < 0.05:  # Setting our significance level at 5%\n",
    "    print('Rejecting Null Hypothesis. That means that the access to internet with CLARO and OI is not the same')\n",
    "else:\n",
    "    print('Fail to Reject Null Hypothesis. That means the access to internet with CLARO and OI is the same')"
   ]
  },
  {
   "cell_type": "markdown",
   "metadata": {},
   "source": [
    "2 Sample T-test \n",
    "\n",
    "Does the access to Internet changes with the internet speed range ?\n",
    "\n",
    "H0: The access to internet with a speed ranges of 2Mbps-34Mbps is the same with one of 512kbps-2Mbps\n",
    "\n",
    "H1: The access to internet with a speed ranges of 2Mbps-34Mbps is not the same with one of 512kbps-2Mbps"
   ]
  },
  {
   "cell_type": "code",
   "execution_count": 44,
   "metadata": {},
   "outputs": [
    {
     "name": "stdout",
     "output_type": "stream",
     "text": [
      "Fail to Reject Null Hypothesis\n"
     ]
    }
   ],
   "source": [
    "x = np.array(drop_acesso[drop_acesso['Faixa de Velocidade'] == '2Mbps a 12Mbps'].Acessos) \n",
    "y = np.array(drop_acesso[drop_acesso['Faixa de Velocidade'] == '512kpbs a 2Mbps'].Acessos)\n",
    "t, p_value_3  = stats.ttest_ind(x,y, axis = 0) \n",
    "if p_value_3 < 0.05:  # Setting our significance level at 5%\n",
    "    print('Rejecting Null Hypothesis.')\n",
    "else:\n",
    "    print('Fail to Reject Null Hypothesis')"
   ]
  },
  {
   "cell_type": "markdown",
   "metadata": {},
   "source": [
    "2 Sample T-test \n",
    "\n",
    "Does the access to Internet changes with the internet technology ?\n",
    "\n",
    "H0: The access to internet with a xDSL technology is the same with Optical Fiber , \"Fibra\"\n",
    "\n",
    "H0: The access to internet with a xDSL technology is not the same with Optical Fiber , \"Fibra\""
   ]
  },
  {
   "cell_type": "code",
   "execution_count": 45,
   "metadata": {},
   "outputs": [
    {
     "name": "stdout",
     "output_type": "stream",
     "text": [
      "Rejecting Null Hypothesis.\n"
     ]
    }
   ],
   "source": [
    "x = np.array(drop_acesso[drop_acesso['Tecnologia'] == 'xDSL'].Acessos) \n",
    "y = np.array(drop_acesso[drop_acesso['Tecnologia'] == 'Fibra'].Acessos)\n",
    "t, p_value_4  = stats.ttest_ind(x,y, axis = 0) \n",
    "if p_value_4 < 0.05:  # Setting our significance level at 5%\n",
    "    print('Rejecting Null Hypothesis.')\n",
    "else:\n",
    "    print('Fail to Reject Null Hypothesis.')"
   ]
  },
  {
   "cell_type": "markdown",
   "metadata": {},
   "source": [
    "# 4. HEATMAP"
   ]
  },
  {
   "cell_type": "code",
   "execution_count": 48,
   "metadata": {},
   "outputs": [
    {
     "data": {
      "text/html": [
       "<div>\n",
       "<style scoped>\n",
       "    .dataframe tbody tr th:only-of-type {\n",
       "        vertical-align: middle;\n",
       "    }\n",
       "\n",
       "    .dataframe tbody tr th {\n",
       "        vertical-align: top;\n",
       "    }\n",
       "\n",
       "    .dataframe thead th {\n",
       "        text-align: right;\n",
       "    }\n",
       "</style>\n",
       "<table border=\"1\" class=\"dataframe\">\n",
       "  <thead>\n",
       "    <tr style=\"text-align: right;\">\n",
       "      <th></th>\n",
       "      <th>Ano</th>\n",
       "      <th>Mês</th>\n",
       "      <th>Empresa</th>\n",
       "      <th>Município</th>\n",
       "      <th>Faixa de Velocidade</th>\n",
       "      <th>Tecnologia</th>\n",
       "      <th>Acessos</th>\n",
       "    </tr>\n",
       "  </thead>\n",
       "  <tbody>\n",
       "    <tr>\n",
       "      <th>2371895</th>\n",
       "      <td>2015</td>\n",
       "      <td>1</td>\n",
       "      <td>VIVO</td>\n",
       "      <td>São Paulo</td>\n",
       "      <td>2Mbps a 12Mbps</td>\n",
       "      <td>ETHERNET</td>\n",
       "      <td>4</td>\n",
       "    </tr>\n",
       "    <tr>\n",
       "      <th>2372137</th>\n",
       "      <td>2015</td>\n",
       "      <td>1</td>\n",
       "      <td>VIVO</td>\n",
       "      <td>São Paulo</td>\n",
       "      <td>&gt; 34Mbps</td>\n",
       "      <td>Fibra</td>\n",
       "      <td>152</td>\n",
       "    </tr>\n",
       "    <tr>\n",
       "      <th>2374075</th>\n",
       "      <td>2015</td>\n",
       "      <td>1</td>\n",
       "      <td>CLARO</td>\n",
       "      <td>Santos</td>\n",
       "      <td>512kbps a 2Mbps</td>\n",
       "      <td>xDSL</td>\n",
       "      <td>1</td>\n",
       "    </tr>\n",
       "    <tr>\n",
       "      <th>2374080</th>\n",
       "      <td>2015</td>\n",
       "      <td>1</td>\n",
       "      <td>CLARO</td>\n",
       "      <td>Campinas</td>\n",
       "      <td>0Kbps a 512Kbps</td>\n",
       "      <td>xDSL</td>\n",
       "      <td>1</td>\n",
       "    </tr>\n",
       "    <tr>\n",
       "      <th>2374082</th>\n",
       "      <td>2015</td>\n",
       "      <td>1</td>\n",
       "      <td>CLARO</td>\n",
       "      <td>São Paulo</td>\n",
       "      <td>2Mbps a 12Mbps</td>\n",
       "      <td>Fibra</td>\n",
       "      <td>7</td>\n",
       "    </tr>\n",
       "    <tr>\n",
       "      <th>...</th>\n",
       "      <td>...</td>\n",
       "      <td>...</td>\n",
       "      <td>...</td>\n",
       "      <td>...</td>\n",
       "      <td>...</td>\n",
       "      <td>...</td>\n",
       "      <td>...</td>\n",
       "    </tr>\n",
       "    <tr>\n",
       "      <th>146036</th>\n",
       "      <td>2020</td>\n",
       "      <td>12</td>\n",
       "      <td>SKY/AT&amp;T</td>\n",
       "      <td>Sorocaba</td>\n",
       "      <td>12Mbps a 34Mbps</td>\n",
       "      <td>LTE</td>\n",
       "      <td>31</td>\n",
       "    </tr>\n",
       "    <tr>\n",
       "      <th>146215</th>\n",
       "      <td>2020</td>\n",
       "      <td>12</td>\n",
       "      <td>SKY/AT&amp;T</td>\n",
       "      <td>Santos</td>\n",
       "      <td>512kbps a 2Mbps</td>\n",
       "      <td>LTE</td>\n",
       "      <td>154</td>\n",
       "    </tr>\n",
       "    <tr>\n",
       "      <th>146323</th>\n",
       "      <td>2020</td>\n",
       "      <td>12</td>\n",
       "      <td>SKY/AT&amp;T</td>\n",
       "      <td>São Paulo</td>\n",
       "      <td>512kbps a 2Mbps</td>\n",
       "      <td>LTE</td>\n",
       "      <td>1</td>\n",
       "    </tr>\n",
       "    <tr>\n",
       "      <th>146501</th>\n",
       "      <td>2020</td>\n",
       "      <td>12</td>\n",
       "      <td>SKY/AT&amp;T</td>\n",
       "      <td>Sorocaba</td>\n",
       "      <td>512kbps a 2Mbps</td>\n",
       "      <td>LTE</td>\n",
       "      <td>145</td>\n",
       "    </tr>\n",
       "    <tr>\n",
       "      <th>146578</th>\n",
       "      <td>2020</td>\n",
       "      <td>12</td>\n",
       "      <td>SKY/AT&amp;T</td>\n",
       "      <td>Sorocaba</td>\n",
       "      <td>2Mbps a 12Mbps</td>\n",
       "      <td>LTE</td>\n",
       "      <td>373</td>\n",
       "    </tr>\n",
       "  </tbody>\n",
       "</table>\n",
       "<p>27285 rows × 7 columns</p>\n",
       "</div>"
      ],
      "text/plain": [
       "          Ano  Mês   Empresa  Município Faixa de Velocidade Tecnologia  \\\n",
       "2371895  2015    1      VIVO  São Paulo      2Mbps a 12Mbps   ETHERNET   \n",
       "2372137  2015    1      VIVO  São Paulo            > 34Mbps      Fibra   \n",
       "2374075  2015    1     CLARO     Santos     512kbps a 2Mbps       xDSL   \n",
       "2374080  2015    1     CLARO   Campinas     0Kbps a 512Kbps       xDSL   \n",
       "2374082  2015    1     CLARO  São Paulo      2Mbps a 12Mbps      Fibra   \n",
       "...       ...  ...       ...        ...                 ...        ...   \n",
       "146036   2020   12  SKY/AT&T   Sorocaba     12Mbps a 34Mbps        LTE   \n",
       "146215   2020   12  SKY/AT&T     Santos     512kbps a 2Mbps        LTE   \n",
       "146323   2020   12  SKY/AT&T  São Paulo     512kbps a 2Mbps        LTE   \n",
       "146501   2020   12  SKY/AT&T   Sorocaba     512kbps a 2Mbps        LTE   \n",
       "146578   2020   12  SKY/AT&T   Sorocaba      2Mbps a 12Mbps        LTE   \n",
       "\n",
       "         Acessos  \n",
       "2371895        4  \n",
       "2372137      152  \n",
       "2374075        1  \n",
       "2374080        1  \n",
       "2374082        7  \n",
       "...          ...  \n",
       "146036        31  \n",
       "146215       154  \n",
       "146323         1  \n",
       "146501       145  \n",
       "146578       373  \n",
       "\n",
       "[27285 rows x 7 columns]"
      ]
     },
     "execution_count": 48,
     "metadata": {},
     "output_type": "execute_result"
    }
   ],
   "source": [
    "drop_sort = drop_acesso.copy()\n",
    "drop_sort"
   ]
  },
  {
   "cell_type": "code",
   "execution_count": 49,
   "metadata": {},
   "outputs": [
    {
     "data": {
      "text/plain": [
       "Ano                       int64\n",
       "Mês                       int64\n",
       "Empresa                category\n",
       "Município              category\n",
       "Faixa de Velocidade    category\n",
       "Tecnologia             category\n",
       "Acessos                   int64\n",
       "dtype: object"
      ]
     },
     "execution_count": 49,
     "metadata": {},
     "output_type": "execute_result"
    }
   ],
   "source": [
    "drop_sort[['Empresa', 'Município','Faixa de Velocidade', 'Tecnologia']] = drop_sort[['Empresa', 'Município','Faixa de Velocidade', 'Tecnologia']].astype('category')\n",
    "drop_sort.dtypes"
   ]
  },
  {
   "cell_type": "code",
   "execution_count": 51,
   "metadata": {},
   "outputs": [
    {
     "data": {
      "text/plain": [
       "Ano                    int64\n",
       "Mês                    int64\n",
       "Empresa                int64\n",
       "Município              int64\n",
       "Faixa de Velocidade    int32\n",
       "Tecnologia             int32\n",
       "Acessos                int64\n",
       "dtype: object"
      ]
     },
     "execution_count": 51,
     "metadata": {},
     "output_type": "execute_result"
    }
   ],
   "source": [
    "label = LabelEncoder()\n",
    "label.fit(drop_sort.Empresa)\n",
    "drop_sort.Empresa = label.transform(drop_sort.Empresa)\n",
    "label.fit(drop_sort['Município'])\n",
    "drop_sort['Município'] = label.transform(drop_sort['Município'])\n",
    "label.fit(drop_sort['Faixa de Velocidade'])\n",
    "drop_sort['Faixa de Velocidade'] = label.transform(drop_sort['Faixa de Velocidade'])\n",
    "label.fit(drop_sort['Tecnologia'])\n",
    "drop_sort['Tecnologia'] = label.transform(drop_sort['Tecnologia'])\n",
    "drop_sort.dtypes"
   ]
  },
  {
   "cell_type": "code",
   "execution_count": 52,
   "metadata": {},
   "outputs": [
    {
     "data": {
      "image/png": "[encoded data removed]",
      "text/plain": [
       "<Figure size 1080x1080 with 2 Axes>"
      ]
     },
     "metadata": {
      "needs_background": "light"
     },
     "output_type": "display_data"
    }
   ],
   "source": [
    "#Correlation matrix\n",
    "f, ax = plt.subplots(1, 1, figsize=(15, 15))\n",
    "ax = sns.heatmap(drop_sort.corr(), annot=True, cmap='Set1')"
   ]
  },
  {
   "cell_type": "markdown",
   "metadata": {},
   "source": [
    "# Remove multicollinearity"
   ]
  },
  {
   "cell_type": "code",
   "execution_count": 53,
   "metadata": {},
   "outputs": [],
   "source": [
    "from patsy import dmatrices\n",
    "import statsmodels.api as sm\n",
    "from statsmodels.stats.outliers_influence import variance_inflation_factor"
   ]
  },
  {
   "cell_type": "code",
   "execution_count": 54,
   "metadata": {},
   "outputs": [
    {
     "data": {
      "text/html": [
       "<div>\n",
       "<style scoped>\n",
       "    .dataframe tbody tr th:only-of-type {\n",
       "        vertical-align: middle;\n",
       "    }\n",
       "\n",
       "    .dataframe tbody tr th {\n",
       "        vertical-align: top;\n",
       "    }\n",
       "\n",
       "    .dataframe thead th {\n",
       "        text-align: right;\n",
       "    }\n",
       "</style>\n",
       "<table border=\"1\" class=\"dataframe\">\n",
       "  <thead>\n",
       "    <tr style=\"text-align: right;\">\n",
       "      <th></th>\n",
       "      <th>VIF Factor</th>\n",
       "      <th>features</th>\n",
       "    </tr>\n",
       "  </thead>\n",
       "  <tbody>\n",
       "    <tr>\n",
       "      <th>0</th>\n",
       "      <td>1.7</td>\n",
       "      <td>Empresa</td>\n",
       "    </tr>\n",
       "    <tr>\n",
       "      <th>1</th>\n",
       "      <td>2.5</td>\n",
       "      <td>Município</td>\n",
       "    </tr>\n",
       "    <tr>\n",
       "      <th>2</th>\n",
       "      <td>2.3</td>\n",
       "      <td>Faixa de Velocidade</td>\n",
       "    </tr>\n",
       "    <tr>\n",
       "      <th>3</th>\n",
       "      <td>2.2</td>\n",
       "      <td>Tecnologia</td>\n",
       "    </tr>\n",
       "  </tbody>\n",
       "</table>\n",
       "</div>"
      ],
      "text/plain": [
       "   VIF Factor             features\n",
       "0         1.7              Empresa\n",
       "1         2.5            Município\n",
       "2         2.3  Faixa de Velocidade\n",
       "3         2.2           Tecnologia"
      ]
     },
     "execution_count": 54,
     "metadata": {},
     "output_type": "execute_result"
    }
   ],
   "source": [
    "#Remove multicollinearity\n",
    "#create a list of feature names\n",
    "\n",
    "independent_variables = ['Empresa', 'Município', 'Faixa de Velocidade', 'Tecnologia']\n",
    "X = drop_sort[independent_variables]\n",
    "y = drop_sort['Acessos']\n",
    "\n",
    "vif = pd.DataFrame()\n",
    "vif[\"VIF Factor\"] = [variance_inflation_factor(X.values, i) for i in range(X.shape[1])]\n",
    "vif[\"features\"] = X.columns\n",
    "vif.round(1)\n"
   ]
  },
  {
   "cell_type": "markdown",
   "metadata": {},
   "source": [
    "# MACHINE LEARNING MODELING - DECISION TREE"
   ]
  },
  {
   "cell_type": "code",
   "execution_count": 73,
   "metadata": {},
   "outputs": [
    {
     "data": {
      "text/html": [
       "<div>\n",
       "<style scoped>\n",
       "    .dataframe tbody tr th:only-of-type {\n",
       "        vertical-align: middle;\n",
       "    }\n",
       "\n",
       "    .dataframe tbody tr th {\n",
       "        vertical-align: top;\n",
       "    }\n",
       "\n",
       "    .dataframe thead th {\n",
       "        text-align: right;\n",
       "    }\n",
       "</style>\n",
       "<table border=\"1\" class=\"dataframe\">\n",
       "  <thead>\n",
       "    <tr style=\"text-align: right;\">\n",
       "      <th></th>\n",
       "      <th>Ano</th>\n",
       "      <th>Mês</th>\n",
       "      <th>Empresa</th>\n",
       "      <th>Município</th>\n",
       "      <th>Faixa de Velocidade</th>\n",
       "      <th>Tecnologia</th>\n",
       "      <th>Acessos</th>\n",
       "    </tr>\n",
       "  </thead>\n",
       "  <tbody>\n",
       "    <tr>\n",
       "      <th>2371895</th>\n",
       "      <td>2015</td>\n",
       "      <td>1</td>\n",
       "      <td>VIVO</td>\n",
       "      <td>São Paulo</td>\n",
       "      <td>2Mbps a 12Mbps</td>\n",
       "      <td>ETHERNET</td>\n",
       "      <td>4</td>\n",
       "    </tr>\n",
       "    <tr>\n",
       "      <th>2372137</th>\n",
       "      <td>2015</td>\n",
       "      <td>1</td>\n",
       "      <td>VIVO</td>\n",
       "      <td>São Paulo</td>\n",
       "      <td>&gt; 34Mbps</td>\n",
       "      <td>Fibra</td>\n",
       "      <td>152</td>\n",
       "    </tr>\n",
       "    <tr>\n",
       "      <th>2374075</th>\n",
       "      <td>2015</td>\n",
       "      <td>1</td>\n",
       "      <td>CLARO</td>\n",
       "      <td>Santos</td>\n",
       "      <td>512kbps a 2Mbps</td>\n",
       "      <td>xDSL</td>\n",
       "      <td>1</td>\n",
       "    </tr>\n",
       "    <tr>\n",
       "      <th>2374080</th>\n",
       "      <td>2015</td>\n",
       "      <td>1</td>\n",
       "      <td>CLARO</td>\n",
       "      <td>Campinas</td>\n",
       "      <td>0Kbps a 512Kbps</td>\n",
       "      <td>xDSL</td>\n",
       "      <td>1</td>\n",
       "    </tr>\n",
       "    <tr>\n",
       "      <th>2374082</th>\n",
       "      <td>2015</td>\n",
       "      <td>1</td>\n",
       "      <td>CLARO</td>\n",
       "      <td>São Paulo</td>\n",
       "      <td>2Mbps a 12Mbps</td>\n",
       "      <td>Fibra</td>\n",
       "      <td>7</td>\n",
       "    </tr>\n",
       "    <tr>\n",
       "      <th>...</th>\n",
       "      <td>...</td>\n",
       "      <td>...</td>\n",
       "      <td>...</td>\n",
       "      <td>...</td>\n",
       "      <td>...</td>\n",
       "      <td>...</td>\n",
       "      <td>...</td>\n",
       "    </tr>\n",
       "    <tr>\n",
       "      <th>146036</th>\n",
       "      <td>2020</td>\n",
       "      <td>12</td>\n",
       "      <td>SKY/AT&amp;T</td>\n",
       "      <td>Sorocaba</td>\n",
       "      <td>12Mbps a 34Mbps</td>\n",
       "      <td>LTE</td>\n",
       "      <td>31</td>\n",
       "    </tr>\n",
       "    <tr>\n",
       "      <th>146215</th>\n",
       "      <td>2020</td>\n",
       "      <td>12</td>\n",
       "      <td>SKY/AT&amp;T</td>\n",
       "      <td>Santos</td>\n",
       "      <td>512kbps a 2Mbps</td>\n",
       "      <td>LTE</td>\n",
       "      <td>154</td>\n",
       "    </tr>\n",
       "    <tr>\n",
       "      <th>146323</th>\n",
       "      <td>2020</td>\n",
       "      <td>12</td>\n",
       "      <td>SKY/AT&amp;T</td>\n",
       "      <td>São Paulo</td>\n",
       "      <td>512kbps a 2Mbps</td>\n",
       "      <td>LTE</td>\n",
       "      <td>1</td>\n",
       "    </tr>\n",
       "    <tr>\n",
       "      <th>146501</th>\n",
       "      <td>2020</td>\n",
       "      <td>12</td>\n",
       "      <td>SKY/AT&amp;T</td>\n",
       "      <td>Sorocaba</td>\n",
       "      <td>512kbps a 2Mbps</td>\n",
       "      <td>LTE</td>\n",
       "      <td>145</td>\n",
       "    </tr>\n",
       "    <tr>\n",
       "      <th>146578</th>\n",
       "      <td>2020</td>\n",
       "      <td>12</td>\n",
       "      <td>SKY/AT&amp;T</td>\n",
       "      <td>Sorocaba</td>\n",
       "      <td>2Mbps a 12Mbps</td>\n",
       "      <td>LTE</td>\n",
       "      <td>373</td>\n",
       "    </tr>\n",
       "  </tbody>\n",
       "</table>\n",
       "<p>27285 rows × 7 columns</p>\n",
       "</div>"
      ],
      "text/plain": [
       "          Ano  Mês   Empresa  Município Faixa de Velocidade Tecnologia  \\\n",
       "2371895  2015    1      VIVO  São Paulo      2Mbps a 12Mbps   ETHERNET   \n",
       "2372137  2015    1      VIVO  São Paulo            > 34Mbps      Fibra   \n",
       "2374075  2015    1     CLARO     Santos     512kbps a 2Mbps       xDSL   \n",
       "2374080  2015    1     CLARO   Campinas     0Kbps a 512Kbps       xDSL   \n",
       "2374082  2015    1     CLARO  São Paulo      2Mbps a 12Mbps      Fibra   \n",
       "...       ...  ...       ...        ...                 ...        ...   \n",
       "146036   2020   12  SKY/AT&T   Sorocaba     12Mbps a 34Mbps        LTE   \n",
       "146215   2020   12  SKY/AT&T     Santos     512kbps a 2Mbps        LTE   \n",
       "146323   2020   12  SKY/AT&T  São Paulo     512kbps a 2Mbps        LTE   \n",
       "146501   2020   12  SKY/AT&T   Sorocaba     512kbps a 2Mbps        LTE   \n",
       "146578   2020   12  SKY/AT&T   Sorocaba      2Mbps a 12Mbps        LTE   \n",
       "\n",
       "         Acessos  \n",
       "2371895        4  \n",
       "2372137      152  \n",
       "2374075        1  \n",
       "2374080        1  \n",
       "2374082        7  \n",
       "...          ...  \n",
       "146036        31  \n",
       "146215       154  \n",
       "146323         1  \n",
       "146501       145  \n",
       "146578       373  \n",
       "\n",
       "[27285 rows x 7 columns]"
      ]
     },
     "execution_count": 73,
     "metadata": {},
     "output_type": "execute_result"
    }
   ],
   "source": [
    "df=drop_acesso.copy()\n",
    "df"
   ]
  },
  {
   "cell_type": "code",
   "execution_count": 81,
   "metadata": {},
   "outputs": [],
   "source": [
    "df = df[(df['Tecnologia']=='Fibra') | (df['Tecnologia']=='Cable Modem') | (df['Tecnologia']=='HFC') | (df['Tecnologia']=='xDSL') ]\n",
    "df = df.copy()"
   ]
  },
  {
   "cell_type": "code",
   "execution_count": 82,
   "metadata": {},
   "outputs": [],
   "source": [
    "df.loc[df['Acessos'] < 5000, 'Survey'] = 0\n",
    "df.loc[df['Acessos'] >= 5000, 'Survey'] = 1"
   ]
  },
  {
   "cell_type": "code",
   "execution_count": 83,
   "metadata": {},
   "outputs": [
    {
     "data": {
      "text/html": [
       "<div>\n",
       "<style scoped>\n",
       "    .dataframe tbody tr th:only-of-type {\n",
       "        vertical-align: middle;\n",
       "    }\n",
       "\n",
       "    .dataframe tbody tr th {\n",
       "        vertical-align: top;\n",
       "    }\n",
       "\n",
       "    .dataframe thead th {\n",
       "        text-align: right;\n",
       "    }\n",
       "</style>\n",
       "<table border=\"1\" class=\"dataframe\">\n",
       "  <thead>\n",
       "    <tr style=\"text-align: right;\">\n",
       "      <th></th>\n",
       "      <th>Ano</th>\n",
       "      <th>Mês</th>\n",
       "      <th>Empresa</th>\n",
       "      <th>Município</th>\n",
       "      <th>Faixa de Velocidade</th>\n",
       "      <th>Tecnologia</th>\n",
       "      <th>Acessos</th>\n",
       "      <th>Survey</th>\n",
       "    </tr>\n",
       "  </thead>\n",
       "  <tbody>\n",
       "    <tr>\n",
       "      <th>2372137</th>\n",
       "      <td>2015</td>\n",
       "      <td>1</td>\n",
       "      <td>VIVO</td>\n",
       "      <td>São Paulo</td>\n",
       "      <td>&gt; 34Mbps</td>\n",
       "      <td>Fibra</td>\n",
       "      <td>152</td>\n",
       "      <td>0</td>\n",
       "    </tr>\n",
       "    <tr>\n",
       "      <th>2374075</th>\n",
       "      <td>2015</td>\n",
       "      <td>1</td>\n",
       "      <td>CLARO</td>\n",
       "      <td>Santos</td>\n",
       "      <td>512kbps a 2Mbps</td>\n",
       "      <td>xDSL</td>\n",
       "      <td>1</td>\n",
       "      <td>0</td>\n",
       "    </tr>\n",
       "    <tr>\n",
       "      <th>2374080</th>\n",
       "      <td>2015</td>\n",
       "      <td>1</td>\n",
       "      <td>CLARO</td>\n",
       "      <td>Campinas</td>\n",
       "      <td>0Kbps a 512Kbps</td>\n",
       "      <td>xDSL</td>\n",
       "      <td>1</td>\n",
       "      <td>0</td>\n",
       "    </tr>\n",
       "    <tr>\n",
       "      <th>2374082</th>\n",
       "      <td>2015</td>\n",
       "      <td>1</td>\n",
       "      <td>CLARO</td>\n",
       "      <td>São Paulo</td>\n",
       "      <td>2Mbps a 12Mbps</td>\n",
       "      <td>Fibra</td>\n",
       "      <td>7</td>\n",
       "      <td>0</td>\n",
       "    </tr>\n",
       "    <tr>\n",
       "      <th>2374084</th>\n",
       "      <td>2015</td>\n",
       "      <td>1</td>\n",
       "      <td>CLARO</td>\n",
       "      <td>Santos</td>\n",
       "      <td>0Kbps a 512Kbps</td>\n",
       "      <td>Fibra</td>\n",
       "      <td>1</td>\n",
       "      <td>0</td>\n",
       "    </tr>\n",
       "    <tr>\n",
       "      <th>...</th>\n",
       "      <td>...</td>\n",
       "      <td>...</td>\n",
       "      <td>...</td>\n",
       "      <td>...</td>\n",
       "      <td>...</td>\n",
       "      <td>...</td>\n",
       "      <td>...</td>\n",
       "      <td>...</td>\n",
       "    </tr>\n",
       "    <tr>\n",
       "      <th>99789</th>\n",
       "      <td>2020</td>\n",
       "      <td>12</td>\n",
       "      <td>CLARO</td>\n",
       "      <td>Sorocaba</td>\n",
       "      <td>0Kbps a 512Kbps</td>\n",
       "      <td>Fibra</td>\n",
       "      <td>20</td>\n",
       "      <td>0</td>\n",
       "    </tr>\n",
       "    <tr>\n",
       "      <th>99827</th>\n",
       "      <td>2020</td>\n",
       "      <td>12</td>\n",
       "      <td>CLARO</td>\n",
       "      <td>Santos</td>\n",
       "      <td>0Kbps a 512Kbps</td>\n",
       "      <td>Fibra</td>\n",
       "      <td>34</td>\n",
       "      <td>0</td>\n",
       "    </tr>\n",
       "    <tr>\n",
       "      <th>99830</th>\n",
       "      <td>2020</td>\n",
       "      <td>12</td>\n",
       "      <td>CLARO</td>\n",
       "      <td>São José dos Campos</td>\n",
       "      <td>2Mbps a 12Mbps</td>\n",
       "      <td>xDSL</td>\n",
       "      <td>1</td>\n",
       "      <td>0</td>\n",
       "    </tr>\n",
       "    <tr>\n",
       "      <th>100058</th>\n",
       "      <td>2020</td>\n",
       "      <td>12</td>\n",
       "      <td>CLARO</td>\n",
       "      <td>Ribeirão Preto</td>\n",
       "      <td>2Mbps a 12Mbps</td>\n",
       "      <td>HFC</td>\n",
       "      <td>10374</td>\n",
       "      <td>1</td>\n",
       "    </tr>\n",
       "    <tr>\n",
       "      <th>100126</th>\n",
       "      <td>2020</td>\n",
       "      <td>12</td>\n",
       "      <td>CLARO</td>\n",
       "      <td>Santos</td>\n",
       "      <td>0Kbps a 512Kbps</td>\n",
       "      <td>HFC</td>\n",
       "      <td>48</td>\n",
       "      <td>0</td>\n",
       "    </tr>\n",
       "  </tbody>\n",
       "</table>\n",
       "<p>16204 rows × 8 columns</p>\n",
       "</div>"
      ],
      "text/plain": [
       "          Ano  Mês Empresa            Município Faixa de Velocidade  \\\n",
       "2372137  2015    1    VIVO            São Paulo            > 34Mbps   \n",
       "2374075  2015    1   CLARO               Santos     512kbps a 2Mbps   \n",
       "2374080  2015    1   CLARO             Campinas     0Kbps a 512Kbps   \n",
       "2374082  2015    1   CLARO            São Paulo      2Mbps a 12Mbps   \n",
       "2374084  2015    1   CLARO               Santos     0Kbps a 512Kbps   \n",
       "...       ...  ...     ...                  ...                 ...   \n",
       "99789    2020   12   CLARO             Sorocaba     0Kbps a 512Kbps   \n",
       "99827    2020   12   CLARO               Santos     0Kbps a 512Kbps   \n",
       "99830    2020   12   CLARO  São José dos Campos      2Mbps a 12Mbps   \n",
       "100058   2020   12   CLARO       Ribeirão Preto      2Mbps a 12Mbps   \n",
       "100126   2020   12   CLARO               Santos     0Kbps a 512Kbps   \n",
       "\n",
       "        Tecnologia  Acessos  Survey  \n",
       "2372137      Fibra      152       0  \n",
       "2374075       xDSL        1       0  \n",
       "2374080       xDSL        1       0  \n",
       "2374082      Fibra        7       0  \n",
       "2374084      Fibra        1       0  \n",
       "...            ...      ...     ...  \n",
       "99789        Fibra       20       0  \n",
       "99827        Fibra       34       0  \n",
       "99830         xDSL        1       0  \n",
       "100058         HFC    10374       1  \n",
       "100126         HFC       48       0  \n",
       "\n",
       "[16204 rows x 8 columns]"
      ]
     },
     "execution_count": 83,
     "metadata": {},
     "output_type": "execute_result"
    }
   ],
   "source": [
    "df['Survey'] = df['Survey'].astype(int)\n",
    "df"
   ]
  },
  {
   "cell_type": "markdown",
   "metadata": {},
   "source": [
    "Modeling the decision tree classifier"
   ]
  },
  {
   "cell_type": "code",
   "execution_count": 85,
   "metadata": {},
   "outputs": [],
   "source": [
    "inputs = df.drop(columns=['Acessos', 'Survey'])\n",
    "target = df['Survey']"
   ]
  },
  {
   "cell_type": "code",
   "execution_count": 94,
   "metadata": {},
   "outputs": [
    {
     "data": {
      "text/plain": [
       "Ano                       int64\n",
       "Mês                       int64\n",
       "Empresa                category\n",
       "Município              category\n",
       "Faixa de Velocidade    category\n",
       "Tecnologia             category\n",
       "dtype: object"
      ]
     },
     "execution_count": 94,
     "metadata": {},
     "output_type": "execute_result"
    }
   ],
   "source": [
    "inputs[['Empresa', 'Município','Faixa de Velocidade', 'Tecnologia']] = inputs[['Empresa', 'Município','Faixa de Velocidade', 'Tecnologia']].astype('category')\n",
    "inputs.dtypes"
   ]
  },
  {
   "cell_type": "code",
   "execution_count": 95,
   "metadata": {},
   "outputs": [
    {
     "data": {
      "text/plain": [
       "Ano                    int64\n",
       "Mês                    int64\n",
       "Empresa                int32\n",
       "Município              int32\n",
       "Faixa de Velocidade    int32\n",
       "Tecnologia             int32\n",
       "dtype: object"
      ]
     },
     "execution_count": 95,
     "metadata": {},
     "output_type": "execute_result"
    }
   ],
   "source": [
    "label = LabelEncoder()\n",
    "label.fit(inputs.Empresa)\n",
    "inputs.Empresa = label.transform(inputs.Empresa)\n",
    "label.fit(inputs['Município'])\n",
    "inputs['Município'] = label.transform(inputs['Município'])\n",
    "label.fit(inputs['Faixa de Velocidade'])\n",
    "inputs['Faixa de Velocidade'] = label.transform(inputs['Faixa de Velocidade'])\n",
    "label.fit(inputs['Tecnologia'])\n",
    "inputs['Tecnologia'] = label.transform(inputs['Tecnologia'])\n",
    "inputs.dtypes"
   ]
  },
  {
   "cell_type": "code",
   "execution_count": 96,
   "metadata": {},
   "outputs": [],
   "source": [
    "x_train = inputs.iloc[:-30]\n",
    "x_test = inputs.iloc[-30:]\n",
    "y_train = target.iloc[:-30]\n",
    "y_test = target.iloc[-30:]"
   ]
  },
  {
   "cell_type": "code",
   "execution_count": 92,
   "metadata": {},
   "outputs": [],
   "source": [
    "from sklearn import tree"
   ]
  },
  {
   "cell_type": "code",
   "execution_count": 98,
   "metadata": {},
   "outputs": [
    {
     "data": {
      "text/plain": [
       "DecisionTreeClassifier()"
      ]
     },
     "execution_count": 98,
     "metadata": {},
     "output_type": "execute_result"
    }
   ],
   "source": [
    "model = tree.DecisionTreeClassifier()\n",
    "model.fit(x_train, y_train)"
   ]
  },
  {
   "cell_type": "code",
   "execution_count": 163,
   "metadata": {},
   "outputs": [],
   "source": [
    "from sklearn.metrics import accuracy_score"
   ]
  },
  {
   "cell_type": "code",
   "execution_count": 164,
   "metadata": {},
   "outputs": [],
   "source": [
    "y_pred = model.predict(x_test)"
   ]
  },
  {
   "cell_type": "code",
   "execution_count": 165,
   "metadata": {},
   "outputs": [
    {
     "data": {
      "text/plain": [
       "0.8333333333333334"
      ]
     },
     "execution_count": 165,
     "metadata": {},
     "output_type": "execute_result"
    }
   ],
   "source": [
    "accuracy_score(y_test, y_pred)"
   ]
  },
  {
   "cell_type": "code",
   "execution_count": null,
   "metadata": {},
   "outputs": [],
   "source": []
  }
 ],
 "metadata": {
  "kernelspec": {
   "display_name": "Python 3",
   "language": "python",
   "name": "python3"
  },
  "language_info": {
   "codemirror_mode": {
    "name": "ipython",
    "version": 3
   },
   "file_extension": ".py",
   "mimetype": "text/x-python",
   "name": "python",
   "nbconvert_exporter": "python",
   "pygments_lexer": "ipython3",
   "version": "3.8.3"
  }
 },
 "nbformat": 4,
 "nbformat_minor": 4
}
